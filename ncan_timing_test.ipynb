{
 "cells": [
  {
   "cell_type": "markdown",
   "metadata": {},
   "source": [
    "# NCAN Timing test\n",
    "\n",
    "This notebook runs all the classifiers with the easy-on-the-eyes dataset, and returns the runtimes for profiling.\n",
    "\n",
    "## Import libraries"
   ]
  },
  {
   "cell_type": "code",
   "execution_count": 1,
   "metadata": {},
   "outputs": [
    {
     "name": "stderr",
     "output_type": "stream",
     "text": [
      "<frozen importlib._bootstrap>:241: FutureWarning: mne.io.pick.pick_types is deprecated will be removed in 1.6, use documented public API instead. If no appropriate public API exists, please open an issue on GitHub.\n",
      "<frozen importlib._bootstrap>:241: FutureWarning: mne.io.pick.pick_channels_regexp is deprecated will be removed in 1.6, use documented public API instead. If no appropriate public API exists, please open an issue on GitHub.\n",
      "<frozen importlib._bootstrap>:241: FutureWarning: mne.io.pick.channel_type is deprecated will be removed in 1.6, use documented public API instead. If no appropriate public API exists, please open an issue on GitHub.\n",
      "c:\\Users\\danie\\miniconda3\\envs\\ssvep-validation\\Lib\\site-packages\\moabb\\pipelines\\__init__.py:26: ModuleNotFoundError: Tensorflow is not installed. You won't be able to use these MOABB pipelines if you attempt to do so.\n",
      "  warn(\n"
     ]
    },
    {
     "name": "stdout",
     "output_type": "stream",
     "text": [
      "To use the get_shape_from_baseconcar, InputShapeSetterEEG, BraindecodeDatasetLoaderyou need to install `braindecode`.`pip install braindecode` or Please refer to `https://braindecode.org`.\n"
     ]
    }
   ],
   "source": [
    "# Default libraries\n",
    "import os\n",
    "import re\n",
    "import mne\n",
    "import numpy as np\n",
    "import pandas as pd\n",
    "import multiprocessing\n",
    "import scipy.signal as signal\n",
    "import matplotlib.pyplot as plt\n",
    "from cupyx.profiler import benchmark\n",
    "\n",
    "# Import custom libraries\n",
    "from functions import data_tools\n",
    "from functions import processing\n",
    "from functions import classification\n",
    "from functions.FeatureExtractorSSVEP import FeatureExtractorCCA as CCA\n",
    "from functions.FeatureExtractorSSVEP import FeatureExtractorMSI as MSI\n",
    "from functions.FeatureExtractorSSVEP import FeatureExtractorMEC as MEC\n",
    "\n",
    "# Magic command to reload libraries\n",
    "%reload_ext autoreload\n",
    "# %autoreload 3"
   ]
  },
  {
   "cell_type": "markdown",
   "metadata": {},
   "source": [
    "## Settings"
   ]
  },
  {
   "cell_type": "code",
   "execution_count": 2,
   "metadata": {},
   "outputs": [],
   "source": [
    "# Change data folder depending on the computer used\n",
    "data_folder = r\"C:\\Users\\danie\\OneDrive - University of Calgary\\PDF\\Proyects\\Datasets\\easy-on-the-eyes\"\n",
    "data_files = [\n",
    "    r\"sub-P003\\ses-S001\\eeg\\sub-P003_ses-S001_task-T1_run-001_eeg.xdf\",\n",
    "    r\"sub-P004\\ses-S001\\eeg\\sub-P004_ses-S001_task-T1_run-001_eeg.xdf\",\n",
    "    r\"sub-P005\\ses-S001\\eeg\\sub-P005_ses-S001_task-T1_run-001_eeg.xdf\",\n",
    "    r\"sub-P006\\ses-S001\\eeg\\sub-P006_ses-S001_task-T1_run-001_eeg.xdf\",\n",
    "    r\"sub-P007\\ses-S001\\eeg\\sub-P007_ses-S001_task-T1_run-001_eeg.xdf\",\n",
    "    r\"sub-P008\\ses-S001\\eeg\\sub-P008_ses-S001_task-T1_run-001_eeg.xdf\",\n",
    "    r\"sub-P009\\ses-S001\\eeg\\sub-P009_ses-S001_task-T1_run-001_eeg.xdf\",\n",
    "    r\"sub-P010\\ses-S001\\eeg\\sub-P010_ses-S001_task-T1_run-001_eeg.xdf\",\n",
    "    r\"sub-P011\\ses-S001\\eeg\\sub-P011_ses-S001_task-T1_run-001_eeg.xdf\",\n",
    "    r\"sub-P012\\ses-S001\\eeg\\sub-P012_ses-S001_task-T1_run-001_eeg.xdf\",\n",
    "    r\"sub-P015\\ses-S001\\eeg\\sub-P015_ses-S001_task-T1_run-001_eeg.xdf\",\n",
    "    r\"sub-P016\\ses-S001\\eeg\\sub-P016_ses-S001_task-T1_run-001_eeg.xdf\",\n",
    "    r\"sub-P019\\ses-S001\\eeg\\sub-P019_ses-S001_task-T1_run-001_eeg.xdf\",\n",
    "    r\"sub-P020\\ses-S001\\eeg\\sub-P020_ses-S001_task-T1_run-001_eeg.xdf\",\n",
    "    r\"sub-P021\\ses-S001\\eeg\\sub-P021_ses-S001_task-T1_run-001_eeg.xdf\",\n",
    "    r\"sub-P022\\ses-S001\\eeg\\sub-P022_ses-S001_task-T1_run-001_eeg.xdf\",\n",
    "    r\"sub-P023\\ses-S001\\eeg\\sub-P023_ses-S001_task-T1_run-001_eeg.xdf\",\n",
    "    r\"sub-P024\\ses-S001\\eeg\\sub-P024_ses-S001_task-T1_run-001_eeg.xdf\",\n",
    "    r\"sub-P025\\ses-S001\\eeg\\sub-P025_ses-S001_task-T1_run-001_eeg.xdf\",\n",
    "    r\"sub-P026\\ses-S001\\eeg\\sub-P026_ses-S001_task-T1_run-001_eeg.xdf\",\n",
    "    r\"sub-P027\\ses-S001\\eeg\\sub-P027_ses-S001_task-T1_run-001_eeg.xdf\",\n",
    "    r\"sub-P028\\ses-S001\\eeg\\sub-P028_ses-S001_task-T1_run-001_eeg.xdf\",\n",
    "    r\"sub-P029\\ses-S001\\eeg\\sub-P029_ses-S001_task-T1_run-001_eeg.xdf\",\n",
    "    r\"sub-P030\\ses-S001\\eeg\\sub-P030_ses-S001_task-T1_run-001_eeg.xdf\",\n",
    "    r\"sub-P031\\ses-S001\\eeg\\sub-P031_ses-S001_task-T1_run-001_eeg.xdf\",\n",
    "    r\"sub-P033\\ses-S001\\eeg\\sub-P033_ses-S001_task-T1_run-001_eeg.xdf\",\n",
    "    r\"sub-P034\\ses-S001\\eeg\\sub-P034_ses-S001_task-T1_run-001_eeg.xdf\",\n",
    "    r\"sub-P035\\ses-S001\\eeg\\sub-P035_ses-S001_task-T1_run-001_eeg.xdf\",\n",
    "    r\"sub-P036\\ses-S001\\eeg\\sub-P036_ses-S001_task-T1_run-001_eeg.xdf\",\n",
    "    ]\n",
    "files = [os.path.join(data_folder, file) for file in data_files]\n",
    "\n",
    "# Import and epoch data\n",
    "eeg_channels = [\"O1\",\"Oz\",\"O2\"]\n",
    "# stimulus_types = ['MaxContrast', 'WoodGrain', 'Worms', 'Voronoi', 'MinContrast', 'Checkerboard', 'Static'] # Complete list of stimulus types\n",
    "stimulus_types = [\"MaxContrast\", \"Checkerboard\", \"MinContrast\"]\n",
    "dict_of_stimuli = {0:\" MaxContrast\", 1:\" Checkerboard\", 2:\" MinContrast\"}\n",
    "stimulus_freqs = {0:\"9.090909\", 1:\"14.28571\", 2:\"33.33333\"}\n",
    "list_of_freqs = [float(freq) for freq in stimulus_freqs.values()]\n",
    "event_labels = np.array([0,0,0,1,1,1,2,2,2])\n",
    "\n",
    "# Preprocessing settings\n",
    "fc_low = 0.1    # Cut frequency for the high-pass filter [Hz]\n",
    "fc_high = 100   # Cut frequency for the low-pass filter [Hz]\n",
    "order = 4       # Order of the Butterworth filter\n",
    "\n",
    "# Results\n",
    "results = pd.DataFrame(\n",
    "    columns=[\n",
    "        \"Mean\",\n",
    "        \"SD\",\n",
    "        \"nvoters\",\n",
    "        \"all_runs\"\n",
    "        ])"
   ]
  },
  {
   "cell_type": "markdown",
   "metadata": {},
   "source": [
    "## Classifier settings"
   ]
  },
  {
   "cell_type": "code",
   "execution_count": null,
   "metadata": {},
   "outputs": [],
   "source": [
    "# Classifier settings\n",
    "nharmonics = 2\n",
    "first_column = np.arange(1, 40, 3)\n",
    "second_column = np.full(first_column.shape, 40)\n",
    "cca_filterbank = np.column_stack((first_column, second_column))\n",
    "batch_size = 256\n",
    "ncores = multiprocessing.cpu_count()\n",
    "nvoters = 1"
   ]
  },
  {
   "cell_type": "markdown",
   "metadata": {},
   "source": [
    "## Preprocesss data\n",
    "\n",
    "Import, epoch, and preprocess data in CPU before starting"
   ]
  },
  {
   "cell_type": "code",
   "execution_count": 3,
   "metadata": {},
   "outputs": [],
   "source": [
    "# Preallocate variables\n",
    "classifier_data = [None] * len(files)\n",
    "\n",
    "for (f,file) in enumerate(files):\n",
    "    subject_number = re.findall(r'sub-P(\\d+)', file)[0]\n",
    "\n",
    "    # Import data and markers\n",
    "    [eeg_time, eeg, srate] = data_tools.read_xdf(file, picks=eeg_channels)\n",
    "    [marker_time, markers] = data_tools.read_xdf_unity_markers(file)\n",
    "\n",
    "    # Bandpass filter the EEG\n",
    "    eeg_filtered = processing.bandpass_filter(\n",
    "        eeg = eeg,\n",
    "        srate = srate,\n",
    "        f_low = fc_low,\n",
    "        f_high = fc_high,\n",
    "        f_order = order\n",
    "        )\n",
    "\n",
    "    # Filter 60 Hz noise\n",
    "    eeg = processing.line_filter(eeg=eeg, srate=srate, f_notch=60, f_order=4)\n",
    "\n",
    "    # Epoch data\n",
    "    [eeg_epochs, epoch_labels] = data_tools.epochs_from_unity_markers(\n",
    "        eeg_time = eeg_time,\n",
    "        eeg_data = eeg_filtered,\n",
    "        marker_time = marker_time,\n",
    "        marker_data = markers\n",
    "        )\n",
    "\n",
    "    # Get stimuli and frequencies labels\n",
    "    fixed_labels = data_tools.fix_labels(epoch_labels)          # Fix labels that might be incorrect in pilot trials\n",
    "    # dict_of_stimuli = data_tools.get_tvep_stimuli(fixed_labels) # Dictionary of unique stimulus\n",
    "    dict_of_stimuli = {0: \" MaxContrast\", 1: \" Checkerboard\", 2: \" MinContrast\"}\n",
    "    # - Create array of eeg epochs organized as [stimuli, freq, chans, samples]\n",
    "    eeg_epochs_organized = data_tools.epochs_stim_freq(\n",
    "        eeg_epochs = eeg_epochs,\n",
    "        labels = fixed_labels,\n",
    "        stimuli = dict_of_stimuli,\n",
    "        freqs = stimulus_freqs,\n",
    "        mode = \"zeropad\"\n",
    "        )\n",
    "    \n",
    "    # Convert data to float32 to speed up computations\n",
    "    # and reshape data to have all epochs in the same dimension\n",
    "    classifier_data[f] = np.float32(eeg_epochs_organized.reshape(\n",
    "        len(dict_of_stimuli) * len(event_labels),\n",
    "        len(eeg_channels),\n",
    "        eeg_epochs_organized.shape[-1],\n",
    "        ))\n"
   ]
  },
  {
   "cell_type": "markdown",
   "metadata": {},
   "source": [
    "## Timing profiler - CPU"
   ]
  },
  {
   "cell_type": "markdown",
   "metadata": {},
   "source": [
    "### CCA"
   ]
  },
  {
   "cell_type": "code",
   "execution_count": 5,
   "metadata": {},
   "outputs": [],
   "source": [
    "def time_cca_cpu():\n",
    "    for trial in classifier_data:\n",
    "        cca_cpu = CCA()\n",
    "\n",
    "        cca_cpu.setup_feature_extractor(\n",
    "            harmonics_count = nharmonics,\n",
    "            targets_frequencies = list_of_freqs,\n",
    "            subbands = cca_filterbank,\n",
    "            sampling_frequency = srate,\n",
    "            use_gpu = False,\n",
    "            samples_count = trial.shape[-1],\n",
    "            explicit_multithreading = ncores,\n",
    "            max_batch_size = batch_size,\n",
    "            voters_count = nvoters\n",
    "            )\n",
    "        \n",
    "        cca_cpu.extract_features(trial)\n",
    "        \n",
    "        "
   ]
  },
  {
   "cell_type": "code",
   "execution_count": 6,
   "metadata": {},
   "outputs": [
    {
     "name": "stdout",
     "output_type": "stream",
     "text": [
      "1min 29s ± 5.92 s per loop (mean ± std. dev. of 5 runs, 1 loop each)\n"
     ]
    },
    {
     "data": {
      "text/plain": [
       "<TimeitResult : 1min 29s ± 5.92 s per loop (mean ± std. dev. of 5 runs, 1 loop each)>"
      ]
     },
     "execution_count": 6,
     "metadata": {},
     "output_type": "execute_result"
    }
   ],
   "source": [
    "cca_cpu_results = %timeit -n 1 -r 5 -o \\\n",
    "time_cca_cpu()"
   ]
  },
  {
   "cell_type": "code",
   "execution_count": 18,
   "metadata": {},
   "outputs": [],
   "source": [
    "results.loc[f\"CCA-CPU-{nvoters}\"] = {\n",
    "    \"Mean\": cca_cpu_results.average,\n",
    "    \"SD\": cca_cpu_results.stdev,\n",
    "    \"nvoters\": 1,\n",
    "    \"all_runs\": cca_cpu_results.all_runs\n",
    "    }"
   ]
  },
  {
   "cell_type": "markdown",
   "metadata": {},
   "source": [
    "### MEC"
   ]
  },
  {
   "cell_type": "code",
   "execution_count": 29,
   "metadata": {},
   "outputs": [],
   "source": [
    "def time_mec_cpu():\n",
    "    for trial in classifier_data:\n",
    "        mec_cpu = MEC()\n",
    "\n",
    "        mec_cpu.setup_feature_extractor(\n",
    "            harmonics_count = nharmonics,\n",
    "            targets_frequencies = list_of_freqs,\n",
    "            sampling_frequency = srate,\n",
    "            use_gpu = False,\n",
    "            samples_count = trial.shape[-1],\n",
    "            explicit_multithreading = ncores,\n",
    "            max_batch_size = batch_size,\n",
    "            voters_count = nvoters\n",
    "            )\n",
    "            \n",
    "        mec_cpu.extract_features(trial)"
   ]
  },
  {
   "cell_type": "code",
   "execution_count": 30,
   "metadata": {},
   "outputs": [],
   "source": [
    "mec_cpu_results = %timeit -n 1 -r 5 -o \\\n",
    "time_mec_cpu()"
   ]
  },
  {
   "cell_type": "code",
   "execution_count": 22,
   "metadata": {},
   "outputs": [],
   "source": [
    "results.loc[f\"MEC-CPU-{nvoters}\"] = {\n",
    "    \"Mean\": mec_cpu_results.average,\n",
    "    \"SD\": mec_cpu_results.stdev,\n",
    "    \"nvoters\": 1,\n",
    "    \"all_runs\": mec_cpu_results.all_runs\n",
    "    }"
   ]
  },
  {
   "cell_type": "markdown",
   "metadata": {},
   "source": [
    "### MSI"
   ]
  },
  {
   "cell_type": "code",
   "execution_count": 23,
   "metadata": {},
   "outputs": [],
   "source": [
    "def time_msi_cpu():\n",
    "    for trial in classifier_data:\n",
    "        msi_cpu = MSI()\n",
    "\n",
    "        msi_cpu.setup_feature_extractor(\n",
    "            harmonics_count = nharmonics,\n",
    "            targets_frequencies = list_of_freqs,\n",
    "            sampling_frequency = srate,\n",
    "            use_gpu = False,\n",
    "            samples_count = trial.shape[-1],\n",
    "            explicit_multithreading = ncores,\n",
    "            max_batch_size = batch_size,\n",
    "            voters_count = nvoters\n",
    "            )\n",
    "            \n",
    "        msi_cpu.extract_features(trial)"
   ]
  },
  {
   "cell_type": "code",
   "execution_count": 24,
   "metadata": {},
   "outputs": [
    {
     "name": "stdout",
     "output_type": "stream",
     "text": [
      "3 s ± 224 ms per loop (mean ± std. dev. of 5 runs, 1 loop each)\n"
     ]
    }
   ],
   "source": [
    "msi_cpu_results = %timeit -n 1 -r 5 -o \\\n",
    "time_msi_cpu()"
   ]
  },
  {
   "cell_type": "code",
   "execution_count": 28,
   "metadata": {},
   "outputs": [],
   "source": [
    "results.loc[f\"MSI-CPU-{nvoters}\"] = {\n",
    "    \"Mean\": msi_cpu_results.average,\n",
    "    \"SD\": msi_cpu_results.stdev,\n",
    "    \"nvoters\": 1,\n",
    "    \"all_runs\": msi_cpu_results.all_runs\n",
    "    }"
   ]
  },
  {
   "cell_type": "markdown",
   "metadata": {},
   "source": [
    "## Timing profiler GPU\n",
    "\n",
    "### CCA"
   ]
  },
  {
   "cell_type": "code",
   "execution_count": 7,
   "metadata": {},
   "outputs": [],
   "source": [
    "def time_cca_gpu():\n",
    "    for trial in classifier_data:\n",
    "        cca_gpu = CCA()\n",
    "\n",
    "        cca_gpu.setup_feature_extractor(\n",
    "            harmonics_count = nharmonics,\n",
    "            subbands = cca_filterbank,\n",
    "            targets_frequencies = list_of_freqs,\n",
    "            sampling_frequency = srate,\n",
    "            use_gpu = True,\n",
    "            samples_count = trial.shape[-1],\n",
    "            max_batch_size = batch_size,\n",
    "            voters_count = nvoters\n",
    "            )\n",
    "        \n",
    "        cca_gpu.extract_features(trial)"
   ]
  },
  {
   "cell_type": "code",
   "execution_count": 8,
   "metadata": {},
   "outputs": [],
   "source": [
    "cca_gpu_results = benchmark(\n",
    "    time_cca_gpu,\n",
    "    n_repeat = 5,\n",
    "    n_warmup = 5,\n",
    "    devices = (0,)\n",
    "    )"
   ]
  },
  {
   "cell_type": "code",
   "execution_count": 13,
   "metadata": {},
   "outputs": [],
   "source": [
    "results.loc[f\"CCA-GPU-{nvoters}\"] = {\n",
    "    \"Mean\": np.mean(cca_gpu_results.gpu_times),\n",
    "    \"SD\": np.std(cca_gpu_results.gpu_times),\n",
    "    \"nvoters\": nvoters,\n",
    "    \"all_runs\": cca_gpu_results.gpu_times\n",
    "    }"
   ]
  },
  {
   "cell_type": "markdown",
   "metadata": {},
   "source": [
    "### MEC"
   ]
  },
  {
   "cell_type": "code",
   "execution_count": 14,
   "metadata": {},
   "outputs": [],
   "source": [
    "def time_mec_gpu():\n",
    "    for trial in classifier_data:\n",
    "        mec_gpu = MEC()\n",
    "\n",
    "        mec_gpu.setup_feature_extractor(\n",
    "            harmonics_count = nharmonics,\n",
    "            targets_frequencies = list_of_freqs,\n",
    "            sampling_frequency = srate,\n",
    "            use_gpu = True,\n",
    "            samples_count = trial.shape[-1],\n",
    "            max_batch_size = batch_size,\n",
    "            voters_count = nvoters\n",
    "            )\n",
    "        \n",
    "        mec_gpu.extract_features(trial)"
   ]
  },
  {
   "cell_type": "code",
   "execution_count": 15,
   "metadata": {},
   "outputs": [],
   "source": [
    "mec_gpu_reults = benchmark(\n",
    "    time_mec_gpu,\n",
    "    n_repeat = 5,\n",
    "    n_warmup = 5,\n",
    "    devices = (0,)\n",
    "    )"
   ]
  },
  {
   "cell_type": "code",
   "execution_count": 16,
   "metadata": {},
   "outputs": [],
   "source": [
    "results.loc[f\"MEC-GPU-{nvoters}\"] = {\n",
    "    \"Mean\": np.mean(mec_gpu_reults.gpu_times),\n",
    "    \"SD\": np.std(mec_gpu_reults.gpu_times),\n",
    "    \"nvoters\": nvoters,\n",
    "    \"all_runs\": mec_gpu_reults.gpu_times\n",
    "    }"
   ]
  },
  {
   "cell_type": "markdown",
   "metadata": {},
   "source": [
    "### MSI"
   ]
  },
  {
   "cell_type": "code",
   "execution_count": 18,
   "metadata": {},
   "outputs": [],
   "source": [
    "def time_msi_gpu():\n",
    "    for trial in classifier_data:\n",
    "        msi_gpu = MSI()\n",
    "\n",
    "        msi_gpu.setup_feature_extractor(\n",
    "            harmonics_count = nharmonics,\n",
    "            targets_frequencies = list_of_freqs,\n",
    "            sampling_frequency = srate,\n",
    "            use_gpu = True,\n",
    "            samples_count = trial.shape[-1],\n",
    "            max_batch_size = batch_size,\n",
    "            voters_count = nvoters\n",
    "            )\n",
    "        \n",
    "        msi_gpu.extract_features(trial)"
   ]
  },
  {
   "cell_type": "code",
   "execution_count": 19,
   "metadata": {},
   "outputs": [],
   "source": [
    "msi_gpu_results = benchmark(\n",
    "    time_msi_gpu,\n",
    "    n_repeat = 5,\n",
    "    n_warmup = 5,\n",
    "    devices = (0,)\n",
    "    )"
   ]
  },
  {
   "cell_type": "code",
   "execution_count": 20,
   "metadata": {},
   "outputs": [],
   "source": [
    "results.loc[f\"MSI-GPU-{nvoters}\"] = {\n",
    "    \"Mean\": np.mean(msi_gpu_results.gpu_times),\n",
    "    \"SD\": np.std(msi_gpu_results.gpu_times),\n",
    "    \"nvoters\": nvoters,\n",
    "    \"all_runs\": msi_gpu_results.gpu_times\n",
    "    }"
   ]
  },
  {
   "cell_type": "markdown",
   "metadata": {},
   "source": [
    "## Save results"
   ]
  },
  {
   "cell_type": "code",
   "execution_count": null,
   "metadata": {},
   "outputs": [],
   "source": [
    "save_results = False\n",
    "\n",
    "if save_results:\n",
    "    results.to_csv(\"results.csv\")\n"
   ]
  }
 ],
 "metadata": {
  "kernelspec": {
   "display_name": "ssvep-validation",
   "language": "python",
   "name": "python3"
  },
  "language_info": {
   "codemirror_mode": {
    "name": "ipython",
    "version": 3
   },
   "file_extension": ".py",
   "mimetype": "text/x-python",
   "name": "python",
   "nbconvert_exporter": "python",
   "pygments_lexer": "ipython3",
   "version": "3.11.8"
  }
 },
 "nbformat": 4,
 "nbformat_minor": 2
}
