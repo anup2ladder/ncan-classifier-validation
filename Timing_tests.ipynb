{
 "cells": [
  {
   "cell_type": "markdown",
   "metadata": {},
   "source": [
    "# Timing tests\n",
    "\n",
    "This notebook runs all the classifiers with the easy-on-the-eyes dataset, and returns the runtimes for profiling.\n",
    "\n",
    "## Instructions\n",
    "1. Run the test with 1 voter\n",
    "2. Change to desired number of voters and re-run the test. \n",
    "3. After 1 and 2, enable and run the last cell to save results.\n",
    "\n",
    "## Import libraries"
   ]
  },
  {
   "cell_type": "code",
   "execution_count": 1,
   "metadata": {},
   "outputs": [
    {
     "name": "stderr",
     "output_type": "stream",
     "text": [
      "<frozen importlib._bootstrap>:241: FutureWarning: mne.io.pick.pick_types is deprecated will be removed in 1.6, use documented public API instead. If no appropriate public API exists, please open an issue on GitHub.\n",
      "<frozen importlib._bootstrap>:241: FutureWarning: mne.io.pick.pick_channels_regexp is deprecated will be removed in 1.6, use documented public API instead. If no appropriate public API exists, please open an issue on GitHub.\n",
      "<frozen importlib._bootstrap>:241: FutureWarning: mne.io.pick.channel_type is deprecated will be removed in 1.6, use documented public API instead. If no appropriate public API exists, please open an issue on GitHub.\n"
     ]
    },
    {
     "name": "stdout",
     "output_type": "stream",
     "text": [
      "To use the get_shape_from_baseconcar, InputShapeSetterEEG, BraindecodeDatasetLoaderyou need to install `braindecode`.`pip install braindecode` or Please refer to `https://braindecode.org`.\n"
     ]
    },
    {
     "name": "stderr",
     "output_type": "stream",
     "text": [
      "c:\\Users\\danie\\miniconda3\\envs\\ssvep-validation\\Lib\\site-packages\\moabb\\pipelines\\__init__.py:26: ModuleNotFoundError: Tensorflow is not installed. You won't be able to use these MOABB pipelines if you attempt to do so.\n",
      "  warn(\n"
     ]
    }
   ],
   "source": [
    "# Default libraries\n",
    "import os\n",
    "import re\n",
    "import mne\n",
    "import platform\n",
    "import numpy as np\n",
    "import pandas as pd\n",
    "import seaborn as sns\n",
    "import multiprocessing\n",
    "import pycuda.driver as cuda\n",
    "import scipy.signal as signal\n",
    "import matplotlib.pyplot as plt\n",
    "from cupyx.profiler import benchmark\n",
    "\n",
    "\n",
    "# Import custom libraries\n",
    "from functions import data_tools\n",
    "from functions import processing\n",
    "from functions import classification\n",
    "from functions.FeatureExtractorSSVEP import FeatureExtractorCCA as CCA\n",
    "from functions.FeatureExtractorSSVEP import FeatureExtractorMSI as MSI\n",
    "from functions.FeatureExtractorSSVEP import FeatureExtractorMEC as MEC\n",
    "\n",
    "# Magic command to reload libraries\n",
    "%reload_ext autoreload\n",
    "# %autoreload 3"
   ]
  },
  {
   "cell_type": "markdown",
   "metadata": {},
   "source": [
    "## CPU and GPU information\n",
    "\n",
    "Get CPU and GPU information to save in results"
   ]
  },
  {
   "cell_type": "code",
   "execution_count": 2,
   "metadata": {},
   "outputs": [],
   "source": [
    "# Get the number of processor types\n",
    "short_name_processors = {\n",
    "    \"AMD64 Family 25 Model 33 Stepping 0, AuthenticAMD\": \"AMD Ryzen 7 5800X\",\n",
    "    \"AMD64 Family 25 Model 80 Stepping 0, AuthenticAMD\": \"AMD Ryzen 7 5800HS\",\n",
    "    \"NVIDIA GeForce RTX 3050 Laptop GPU\": \"NVIDIA GeForce RTX 3050\"\n",
    "    }\n",
    "\n",
    "# Get CPU and GPU information\n",
    "cpu_model = platform.processor()\n",
    "\n",
    "cuda.init()\n",
    "gpu_model = cuda.Device(0).name()\n",
    "\n",
    "# Replace CPU and GPU names if they are in the dictionary\n",
    "cpu_model = short_name_processors.get(cpu_model, cpu_model)\n",
    "gpu_model = short_name_processors.get(gpu_model, gpu_model)"
   ]
  },
  {
   "cell_type": "markdown",
   "metadata": {},
   "source": [
    "## Settings"
   ]
  },
  {
   "cell_type": "code",
   "execution_count": null,
   "metadata": {},
   "outputs": [],
   "source": [
    "# Change data folder depending on the computer used\n",
    "data_folder = r\"C:\\Users\\danie\\OneDrive - University of Calgary\\PDF\\Proyects\\Datasets\\easy-on-the-eyes\"\n",
    "data_files = [r\"sub-P004\\ses-S001\\eeg\\sub-P004_ses-S001_task-T1_run-001_eeg.xdf\"]\n",
    "# data_files = [r\"sub-P015\\ses-S001\\eeg\\sub-P015_ses-S001_task-T1_run-001_eeg.xdf\"]\n",
    "# data_files = [\n",
    "#     r\"sub-P003\\ses-S001\\eeg\\sub-P003_ses-S001_task-T1_run-001_eeg.xdf\",\n",
    "#     r\"sub-P004\\ses-S001\\eeg\\sub-P004_ses-S001_task-T1_run-001_eeg.xdf\",\n",
    "#     r\"sub-P005\\ses-S001\\eeg\\sub-P005_ses-S001_task-T1_run-001_eeg.xdf\",\n",
    "#     r\"sub-P006\\ses-S001\\eeg\\sub-P006_ses-S001_task-T1_run-001_eeg.xdf\",\n",
    "#     r\"sub-P007\\ses-S001\\eeg\\sub-P007_ses-S001_task-T1_run-001_eeg.xdf\",\n",
    "#     r\"sub-P008\\ses-S001\\eeg\\sub-P008_ses-S001_task-T1_run-001_eeg.xdf\",\n",
    "#     r\"sub-P009\\ses-S001\\eeg\\sub-P009_ses-S001_task-T1_run-001_eeg.xdf\",\n",
    "#     r\"sub-P010\\ses-S001\\eeg\\sub-P010_ses-S001_task-T1_run-001_eeg.xdf\",\n",
    "#     r\"sub-P011\\ses-S001\\eeg\\sub-P011_ses-S001_task-T1_run-001_eeg.xdf\",\n",
    "#     r\"sub-P012\\ses-S001\\eeg\\sub-P012_ses-S001_task-T1_run-001_eeg.xdf\",\n",
    "#     r\"sub-P015\\ses-S001\\eeg\\sub-P015_ses-S001_task-T1_run-001_eeg.xdf\",\n",
    "#     r\"sub-P016\\ses-S001\\eeg\\sub-P016_ses-S001_task-T1_run-001_eeg.xdf\",\n",
    "#     r\"sub-P019\\ses-S001\\eeg\\sub-P019_ses-S001_task-T1_run-001_eeg.xdf\",\n",
    "#     r\"sub-P020\\ses-S001\\eeg\\sub-P020_ses-S001_task-T1_run-001_eeg.xdf\",\n",
    "#     r\"sub-P021\\ses-S001\\eeg\\sub-P021_ses-S001_task-T1_run-001_eeg.xdf\",\n",
    "#     r\"sub-P022\\ses-S001\\eeg\\sub-P022_ses-S001_task-T1_run-001_eeg.xdf\",\n",
    "#     r\"sub-P023\\ses-S001\\eeg\\sub-P023_ses-S001_task-T1_run-001_eeg.xdf\",\n",
    "#     r\"sub-P024\\ses-S001\\eeg\\sub-P024_ses-S001_task-T1_run-001_eeg.xdf\",\n",
    "#     r\"sub-P025\\ses-S001\\eeg\\sub-P025_ses-S001_task-T1_run-001_eeg.xdf\",\n",
    "#     r\"sub-P026\\ses-S001\\eeg\\sub-P026_ses-S001_task-T1_run-001_eeg.xdf\",\n",
    "#     r\"sub-P027\\ses-S001\\eeg\\sub-P027_ses-S001_task-T1_run-001_eeg.xdf\",\n",
    "#     r\"sub-P028\\ses-S001\\eeg\\sub-P028_ses-S001_task-T1_run-001_eeg.xdf\",\n",
    "#     r\"sub-P029\\ses-S001\\eeg\\sub-P029_ses-S001_task-T1_run-001_eeg.xdf\",\n",
    "#     r\"sub-P030\\ses-S001\\eeg\\sub-P030_ses-S001_task-T1_run-001_eeg.xdf\",\n",
    "#     r\"sub-P031\\ses-S001\\eeg\\sub-P031_ses-S001_task-T1_run-001_eeg.xdf\",\n",
    "#     r\"sub-P033\\ses-S001\\eeg\\sub-P033_ses-S001_task-T1_run-001_eeg.xdf\",\n",
    "#     r\"sub-P034\\ses-S001\\eeg\\sub-P034_ses-S001_task-T1_run-001_eeg.xdf\",\n",
    "#     r\"sub-P035\\ses-S001\\eeg\\sub-P035_ses-S001_task-T1_run-001_eeg.xdf\",\n",
    "#     r\"sub-P036\\ses-S001\\eeg\\sub-P036_ses-S001_task-T1_run-001_eeg.xdf\",\n",
    "#     ]\n",
    "files = [os.path.join(data_folder, file) for file in data_files]\n",
    "\n",
    "# Import and epoch data\n",
    "eeg_channels = [\"C3\", \"Cz\", \"C4\", \"T7\", \"T8\", \"P3\", \"Pz\", \"P4\", \"P7\", \"PO7\", \"POz\", \"P8\", \"PO8\", \"O1\", \"Oz\", \"O2\"]\n",
    "# eeg_channels = [\"O1\",\"Oz\",\"O2\"]\n",
    "# stimulus_types = ['MaxContrast', 'WoodGrain', 'Worms', 'Voronoi', 'MinContrast', 'Checkerboard', 'Static'] # Complete list of stimulus types\n",
    "stimulus_types = [\"MaxContrast\", \"Checkerboard\", \"MinContrast\"]\n",
    "dict_of_stimuli = {0:\" MaxContrast\", 1:\" Checkerboard\", 2:\" MinContrast\"}\n",
    "stimulus_freqs = {0:\"9.090909\", 1:\"14.28571\", 2:\"33.33333\"}\n",
    "list_of_freqs = [float(freq) for freq in stimulus_freqs.values()]\n",
    "event_labels = np.array([0,0,0,1,1,1,2,2,2])\n",
    "\n",
    "# Preprocessing settings\n",
    "fc_low = 0.1    # Cut frequency for the high-pass filter [Hz]\n",
    "fc_high = 100   # Cut frequency for the low-pass filter [Hz]\n",
    "order = 4       # Order of the Butterworth filter\n",
    "\n",
    "# Results\n",
    "results = pd.DataFrame(\n",
    "    columns=[\n",
    "        \"Classifier\",\n",
    "        \"Processor_type\",\n",
    "        \"Processor_model\",        \n",
    "        \"Voters_number\",\n",
    "        \"Mean\",\n",
    "        \"SD\",                \n",
    "        \"All_runs\"\n",
    "        ])"
   ]
  },
  {
   "cell_type": "markdown",
   "metadata": {},
   "source": [
    "## Classifier settings"
   ]
  },
  {
   "cell_type": "code",
   "execution_count": null,
   "metadata": {},
   "outputs": [],
   "source": [
    "# Classifier settings\n",
    "nharmonics = 2\n",
    "first_column = np.arange(1, 40, 3)\n",
    "second_column = np.full(first_column.shape, 40)\n",
    "cca_filterbank = np.column_stack((first_column, second_column))\n",
    "filter_order = 12\n",
    "batch_size = 256\n",
    "ncores = multiprocessing.cpu_count()\n",
    "nvoters = 100 # Change number of voters depending on test"
   ]
  },
  {
   "cell_type": "markdown",
   "metadata": {},
   "source": [
    "## Preprocesss data\n",
    "\n",
    "Import, epoch, and preprocess data in CPU before starting"
   ]
  },
  {
   "cell_type": "code",
   "execution_count": 5,
   "metadata": {},
   "outputs": [],
   "source": [
    "# Preallocate variables\n",
    "classifier_data = [None] * len(files)\n",
    "\n",
    "for (f,file) in enumerate(files):\n",
    "    subject_number = re.findall(r'sub-P(\\d+)', file)[0]\n",
    "\n",
    "    # Import data and markers\n",
    "    [eeg_time, eeg, srate] = data_tools.read_xdf(file)\n",
    "    [marker_time, markers] = data_tools.read_xdf_unity_markers(file)\n",
    "\n",
    "    # Bandpass filter the EEG\n",
    "    eeg_filtered = processing.bandpass_filter(\n",
    "        eeg = eeg,\n",
    "        srate = srate,\n",
    "        f_low = fc_low,\n",
    "        f_high = fc_high,\n",
    "        f_order = order\n",
    "        )\n",
    "\n",
    "    # Filter 60 Hz noise\n",
    "    eeg = processing.line_filter(eeg=eeg, srate=srate, f_notch=60, f_order=4)\n",
    "\n",
    "    # Epoch data\n",
    "    [eeg_epochs, epoch_labels] = data_tools.epochs_from_unity_markers(\n",
    "        eeg_time = eeg_time,\n",
    "        eeg_data = eeg_filtered,\n",
    "        marker_time = marker_time,\n",
    "        marker_data = markers\n",
    "        )\n",
    "\n",
    "    # Get stimuli and frequencies labels\n",
    "    fixed_labels = data_tools.fix_labels(epoch_labels)          # Fix labels that might be incorrect in pilot trials\n",
    "    # dict_of_stimuli = data_tools.get_tvep_stimuli(fixed_labels) # Dictionary of unique stimulus\n",
    "    dict_of_stimuli = {0: \" MaxContrast\", 1: \" Checkerboard\", 2: \" MinContrast\"}\n",
    "    # - Create array of eeg epochs organized as [stimuli, freq, chans, samples]\n",
    "    eeg_epochs_organized = data_tools.epochs_stim_freq(\n",
    "        eeg_epochs = eeg_epochs,\n",
    "        labels = fixed_labels,\n",
    "        stimuli = dict_of_stimuli,\n",
    "        freqs = stimulus_freqs,\n",
    "        mode = \"zeropad\"\n",
    "        )\n",
    "    \n",
    "    # Convert data to float32 to speed up computations\n",
    "    # and reshape data to have all epochs in the same dimension\n",
    "    classifier_data[f] = np.float32(eeg_epochs_organized.reshape(\n",
    "        len(dict_of_stimuli) * len(event_labels),\n",
    "        len(eeg_channels),\n",
    "        eeg_epochs_organized.shape[-1],\n",
    "        ))\n"
   ]
  },
  {
   "cell_type": "markdown",
   "metadata": {},
   "source": [
    "## Timing profiler - CPU"
   ]
  },
  {
   "cell_type": "markdown",
   "metadata": {},
   "source": [
    "### CCA"
   ]
  },
  {
   "cell_type": "code",
   "execution_count": null,
   "metadata": {},
   "outputs": [],
   "source": [
    "def time_cca_cpu():\n",
    "    for trial in classifier_data:\n",
    "        cca_cpu = CCA()\n",
    "\n",
    "        cca_cpu.setup_feature_extractor(\n",
    "            harmonics_count = nharmonics,\n",
    "            targets_frequencies = list_of_freqs,\n",
    "            filter_order = filter_order,\n",
    "            subbands = cca_filterbank,\n",
    "            sampling_frequency = srate,\n",
    "            use_gpu = False,\n",
    "            samples_count = trial.shape[-1],\n",
    "            explicit_multithreading = ncores,\n",
    "            max_batch_size = batch_size,\n",
    "            voters_count = nvoters\n",
    "            )\n",
    "        \n",
    "        cca_cpu.extract_features(trial)"
   ]
  },
  {
   "cell_type": "code",
   "execution_count": 7,
   "metadata": {},
   "outputs": [
    {
     "name": "stdout",
     "output_type": "stream",
     "text": [
      "12.3 s ± 264 ms per loop (mean ± std. dev. of 5 runs, 1 loop each)\n"
     ]
    }
   ],
   "source": [
    "cca_cpu_results = %timeit -n 1 -r 5 -o \\\n",
    "time_cca_cpu()"
   ]
  },
  {
   "cell_type": "code",
   "execution_count": 8,
   "metadata": {},
   "outputs": [],
   "source": [
    "new_row = pd.DataFrame({\n",
    "    \"Classifier\": \"fbCCA\",\n",
    "    \"Processor_type\": \"CPU\",\n",
    "    \"Processor_model\": cpu_model,\n",
    "    \"Voters_number\": nvoters,\n",
    "    \"Mean\": cca_cpu_results.average,\n",
    "    \"SD\": cca_cpu_results.stdev,\n",
    "    \"All_runs\": [np.array(cca_cpu_results.all_runs)]\n",
    "    })\n",
    "\n",
    "results = pd.concat([results, new_row], ignore_index=True)"
   ]
  },
  {
   "cell_type": "markdown",
   "metadata": {},
   "source": [
    "### MEC"
   ]
  },
  {
   "cell_type": "code",
   "execution_count": 9,
   "metadata": {},
   "outputs": [],
   "source": [
    "def time_mec_cpu():\n",
    "    for trial in classifier_data:\n",
    "        mec_cpu = MEC()\n",
    "\n",
    "        mec_cpu.setup_feature_extractor(\n",
    "            harmonics_count = nharmonics,\n",
    "            targets_frequencies = list_of_freqs,\n",
    "            sampling_frequency = srate,\n",
    "            use_gpu = False,\n",
    "            samples_count = trial.shape[-1],\n",
    "            explicit_multithreading = ncores,\n",
    "            max_batch_size = batch_size,\n",
    "            voters_count = nvoters\n",
    "            )\n",
    "            \n",
    "        mec_cpu.extract_features(trial)"
   ]
  },
  {
   "cell_type": "code",
   "execution_count": 10,
   "metadata": {},
   "outputs": [
    {
     "name": "stdout",
     "output_type": "stream",
     "text": [
      "51.6 s ± 503 ms per loop (mean ± std. dev. of 5 runs, 1 loop each)\n"
     ]
    }
   ],
   "source": [
    "mec_cpu_results = %timeit -n 1 -r 5 -o \\\n",
    "time_mec_cpu()"
   ]
  },
  {
   "cell_type": "code",
   "execution_count": 11,
   "metadata": {},
   "outputs": [],
   "source": [
    "new_row = pd.DataFrame({\n",
    "    \"Classifier\": \"MEC\",\n",
    "    \"Processor_type\": \"CPU\",\n",
    "    \"Processor_model\": cpu_model,\n",
    "    \"Voters_number\": nvoters,\n",
    "    \"Mean\": mec_cpu_results.average,\n",
    "    \"SD\": mec_cpu_results.stdev,\n",
    "    \"All_runs\": [np.array(mec_cpu_results.all_runs)]\n",
    "    })\n",
    "\n",
    "results = pd.concat([results, new_row], ignore_index=True)"
   ]
  },
  {
   "cell_type": "markdown",
   "metadata": {},
   "source": [
    "### MSI"
   ]
  },
  {
   "cell_type": "code",
   "execution_count": 12,
   "metadata": {},
   "outputs": [],
   "source": [
    "def time_msi_cpu():\n",
    "    for trial in classifier_data:\n",
    "        msi_cpu = MSI()\n",
    "\n",
    "        msi_cpu.setup_feature_extractor(\n",
    "            harmonics_count = nharmonics,\n",
    "            targets_frequencies = list_of_freqs,\n",
    "            sampling_frequency = srate,\n",
    "            use_gpu = False,\n",
    "            samples_count = trial.shape[-1],\n",
    "            explicit_multithreading = ncores,\n",
    "            max_batch_size = batch_size,\n",
    "            voters_count = nvoters\n",
    "            )\n",
    "            \n",
    "        msi_cpu.extract_features(trial)"
   ]
  },
  {
   "cell_type": "code",
   "execution_count": 13,
   "metadata": {},
   "outputs": [
    {
     "name": "stdout",
     "output_type": "stream",
     "text": [
      "2.57 s ± 68 ms per loop (mean ± std. dev. of 5 runs, 1 loop each)\n"
     ]
    }
   ],
   "source": [
    "msi_cpu_results = %timeit -n 1 -r 5 -o \\\n",
    "time_msi_cpu()"
   ]
  },
  {
   "cell_type": "code",
   "execution_count": 14,
   "metadata": {},
   "outputs": [],
   "source": [
    "new_row = pd.DataFrame({\n",
    "    \"Classifier\": \"MSI\",\n",
    "    \"Processor_type\": \"CPU\",\n",
    "    \"Processor_model\": cpu_model,\n",
    "    \"Voters_number\": nvoters,\n",
    "    \"Mean\": msi_cpu_results.average,\n",
    "    \"SD\": msi_cpu_results.stdev,\n",
    "    \"All_runs\": [np.array(msi_cpu_results.all_runs)]\n",
    "    })\n",
    "\n",
    "results = pd.concat([results, new_row], ignore_index=True)\n",
    "\n",
    "del msi_cpu_results"
   ]
  },
  {
   "cell_type": "markdown",
   "metadata": {},
   "source": [
    "## Timing profiler GPU\n",
    "\n",
    "### CCA"
   ]
  },
  {
   "cell_type": "code",
   "execution_count": 15,
   "metadata": {},
   "outputs": [],
   "source": [
    "def time_cca_gpu():\n",
    "    for trial in classifier_data:\n",
    "        cca_gpu = CCA()\n",
    "\n",
    "        cca_gpu.setup_feature_extractor(\n",
    "            harmonics_count = nharmonics,\n",
    "            subbands = cca_filterbank,\n",
    "            filter_order = filter_order,\n",
    "            targets_frequencies = list_of_freqs,\n",
    "            sampling_frequency = srate,\n",
    "            use_gpu = True,\n",
    "            samples_count = trial.shape[-1],\n",
    "            max_batch_size = batch_size,\n",
    "            voters_count = nvoters\n",
    "            )\n",
    "        \n",
    "        cca_gpu.extract_features(trial)"
   ]
  },
  {
   "cell_type": "code",
   "execution_count": 16,
   "metadata": {},
   "outputs": [],
   "source": [
    "cca_gpu_results = benchmark(\n",
    "    time_cca_gpu,\n",
    "    n_repeat = 5,\n",
    "    n_warmup = 5,\n",
    "    devices = (0,)\n",
    "    )"
   ]
  },
  {
   "cell_type": "code",
   "execution_count": 17,
   "metadata": {},
   "outputs": [],
   "source": [
    "new_row = pd.DataFrame({\n",
    "    \"Classifier\": \"fbCCA\",\n",
    "    \"Processor_type\": \"GPU\",\n",
    "    \"Processor_model\": gpu_model,\n",
    "    \"Voters_number\": nvoters,\n",
    "    \"Mean\": np.mean(cca_gpu_results.gpu_times),\n",
    "    \"SD\": np.std(cca_gpu_results.gpu_times),\n",
    "    \"All_runs\": [np.array(cca_gpu_results.gpu_times)]\n",
    "    })\n",
    "\n",
    "results = pd.concat([results, new_row], ignore_index=True)"
   ]
  },
  {
   "cell_type": "markdown",
   "metadata": {},
   "source": [
    "### MEC"
   ]
  },
  {
   "cell_type": "code",
   "execution_count": 18,
   "metadata": {},
   "outputs": [],
   "source": [
    "def time_mec_gpu():\n",
    "    for trial in classifier_data:\n",
    "        mec_gpu = MEC()\n",
    "\n",
    "        mec_gpu.setup_feature_extractor(\n",
    "            harmonics_count = nharmonics,\n",
    "            targets_frequencies = list_of_freqs,\n",
    "            sampling_frequency = srate,\n",
    "            use_gpu = True,\n",
    "            samples_count = trial.shape[-1],\n",
    "            max_batch_size = batch_size,\n",
    "            voters_count = nvoters\n",
    "            )\n",
    "        \n",
    "        mec_gpu.extract_features(trial)"
   ]
  },
  {
   "cell_type": "code",
   "execution_count": 19,
   "metadata": {},
   "outputs": [],
   "source": [
    "mec_gpu_results = benchmark(\n",
    "    time_mec_gpu,\n",
    "    n_repeat = 5,\n",
    "    n_warmup = 5,\n",
    "    devices = (0,)\n",
    "    )"
   ]
  },
  {
   "cell_type": "code",
   "execution_count": 20,
   "metadata": {},
   "outputs": [],
   "source": [
    "new_row = pd.DataFrame({\n",
    "    \"Classifier\": \"MEC\",\n",
    "    \"Processor_type\": \"GPU\",\n",
    "    \"Processor_model\": gpu_model,\n",
    "    \"Voters_number\": nvoters,\n",
    "    \"Mean\": np.mean(mec_gpu_results.gpu_times),\n",
    "    \"SD\": np.std(mec_gpu_results.gpu_times),\n",
    "    \"All_runs\": [np.array(mec_gpu_results.gpu_times)]\n",
    "    })\n",
    "\n",
    "results = pd.concat([results, new_row], ignore_index=True)"
   ]
  },
  {
   "cell_type": "markdown",
   "metadata": {},
   "source": [
    "### MSI"
   ]
  },
  {
   "cell_type": "code",
   "execution_count": 21,
   "metadata": {},
   "outputs": [],
   "source": [
    "def time_msi_gpu():\n",
    "    for trial in classifier_data:\n",
    "        msi_gpu = MSI()\n",
    "\n",
    "        msi_gpu.setup_feature_extractor(\n",
    "            harmonics_count = nharmonics,\n",
    "            targets_frequencies = list_of_freqs,\n",
    "            sampling_frequency = srate,\n",
    "            use_gpu = True,\n",
    "            samples_count = trial.shape[-1],\n",
    "            max_batch_size = batch_size,\n",
    "            voters_count = nvoters\n",
    "            )\n",
    "        \n",
    "        msi_gpu.extract_features(trial)"
   ]
  },
  {
   "cell_type": "code",
   "execution_count": 22,
   "metadata": {},
   "outputs": [],
   "source": [
    "msi_gpu_results = benchmark(\n",
    "    time_msi_gpu,\n",
    "    n_repeat = 5,\n",
    "    n_warmup = 5,\n",
    "    devices = (0,)\n",
    "    )"
   ]
  },
  {
   "cell_type": "code",
   "execution_count": 23,
   "metadata": {},
   "outputs": [],
   "source": [
    "new_row = pd.DataFrame({\n",
    "    \"Classifier\": \"MSI\",\n",
    "    \"Processor_type\": \"GPU\",\n",
    "    \"Processor_model\": gpu_model,\n",
    "    \"Voters_number\": nvoters,\n",
    "    \"Mean\": np.mean(msi_gpu_results.gpu_times),\n",
    "    \"SD\": np.std(msi_gpu_results.gpu_times),\n",
    "    \"All_runs\": [np.array(msi_gpu_results.gpu_times)]\n",
    "    })\n",
    "\n",
    "results = pd.concat([results, new_row], ignore_index=True)"
   ]
  },
  {
   "cell_type": "markdown",
   "metadata": {},
   "source": [
    "## Plot results\n",
    "\n",
    "Run this sections for a simple plot of the timing results. For a more detailed plot, use the [timing_plots](timing_plots.ipynb) notebook."
   ]
  },
  {
   "cell_type": "code",
   "execution_count": 24,
   "metadata": {},
   "outputs": [
    {
     "data": {
      "image/png": "[encoded data removed]",
      "text/plain": [
       "<Figure size 1000x600 with 1 Axes>"
      ]
     },
     "metadata": {},
     "output_type": "display_data"
    }
   ],
   "source": [
    "import matplotlib.pyplot as plt\n",
    "import seaborn as sns\n",
    "\n",
    "# Create the plot\n",
    "fig, ax = plt.subplots(figsize=(10, 6))\n",
    "\n",
    "# Plot the combined results\n",
    "sns.barplot(\n",
    "    data=results,\n",
    "    x='Classifier',\n",
    "    y='Mean',\n",
    "    hue='Processor_type',\n",
    "    ax=ax,\n",
    "    capsize=0.1,\n",
    "    alpha=1,\n",
    "    zorder=2,\n",
    "    palette='deep'  # Use the default matplotlib color scheme\n",
    ")\n",
    "\n",
    "# Add error bars\n",
    "for i, classifier in enumerate(results['Classifier'].unique()):\n",
    "    for j, processor_type in enumerate(results['Processor_type'].unique()):\n",
    "        mean = results[(results['Classifier'] == classifier) & (results['Processor_type'] == processor_type)]['Mean']\n",
    "        sd = results[(results['Classifier'] == classifier) & (results['Processor_type'] == processor_type)]['SD']\n",
    "        x_pos = i + (j - 0.5) * 0.8 / len(results['Processor_type'].unique())  # Adjust x position for error bars\n",
    "        ax.errorbar(x=x_pos, y=mean, yerr=sd, fmt='none', capsize=10, color='black', zorder=3)\n",
    "\n",
    "# Set the gridlines to be black and behind the barplots\n",
    "ax.grid(axis='y', linestyle='--', alpha=0.5, color='black', zorder=0)\n",
    "ax.yaxis.grid(True, which='minor', linestyle=':', alpha=0.5, color='black', zorder=0)\n",
    "\n",
    "# Set the y-axis scale to logarithmic\n",
    "ax.set_yscale('log')\n",
    "ax.set_ylim(1e-3, 1e2)\n",
    "\n",
    "# Set the title and labels\n",
    "ax.set_ylabel('Processing time\\nMean $\\pm$ SD [sec]')\n",
    "\n",
    "# Add legend\n",
    "handles, labels = ax.get_legend_handles_labels()\n",
    "labels = [cpu_model if label == 'CPU' else gpu_model for label in labels]\n",
    "ax.legend(handles, labels, title='Processor Model')\n",
    "\n",
    "# Set the main title\n",
    "ax.set_title(f'{nvoters} Voter', fontsize=16)\n",
    "\n",
    "plt.tight_layout(rect=[0, 0, 1, 0.95])\n",
    "plt.show()\n"
   ]
  },
  {
   "cell_type": "markdown",
   "metadata": {},
   "source": [
    "## Save results"
   ]
  },
  {
   "cell_type": "code",
   "execution_count": 25,
   "metadata": {},
   "outputs": [],
   "source": [
    "save_results = False\n",
    "\n",
    "if save_results:\n",
    "    results.to_csv(\"results_ROG.csv\")\n"
   ]
  }
 ],
 "metadata": {
  "kernelspec": {
   "display_name": "ssvep-validation",
   "language": "python",
   "name": "python3"
  },
  "language_info": {
   "codemirror_mode": {
    "name": "ipython",
    "version": 3
   },
   "file_extension": ".py",
   "mimetype": "text/x-python",
   "name": "python",
   "nbconvert_exporter": "python",
   "pygments_lexer": "ipython3",
   "version": "3.11.8"
  }
 },
 "nbformat": 4,
 "nbformat_minor": 2
}
