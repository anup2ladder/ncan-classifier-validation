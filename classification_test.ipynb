{
 "cells": [
  {
   "cell_type": "markdown",
   "metadata": {},
   "source": [
    "# Classification Test\n",
    "\n",
    "This notebook runs a single file to test the NCAN classifiers\n",
    "\n",
    "## Import libraries"
   ]
  },
  {
   "cell_type": "code",
   "execution_count": 3,
   "metadata": {},
   "outputs": [
    {
     "name": "stdout",
     "output_type": "stream",
     "text": [
      "The autoreload extension is already loaded. To reload it, use:\n",
      "  %reload_ext autoreload\n"
     ]
    }
   ],
   "source": [
    "# Default libraries\n",
    "import numpy as np\n",
    "import mne\n",
    "import os\n",
    "import matplotlib.pyplot as plt\n",
    "import scipy.signal as signal\n",
    "\n",
    "# Import custom libraries\n",
    "from functions import data_tools\n",
    "from functions import processing\n",
    "from functions.FeatureExtractorSSVEP import FeatureExtractorCCA as CCA\n",
    "from functions.FeatureExtractorSSVEP import FeatureExtractorMSI as MSI\n",
    "from functions.FeatureExtractorSSVEP import FeatureExtractorMEC as MEC\n",
    "\n",
    "# Araz magic command\n",
    "%load_ext autoreload\n",
    "%autoreload 3"
   ]
  },
  {
   "cell_type": "markdown",
   "metadata": {},
   "source": [
    "## Import and epoch data"
   ]
  },
  {
   "cell_type": "code",
   "execution_count": 17,
   "metadata": {},
   "outputs": [],
   "source": [
    "# Select file to import\n",
    "# file = r\"C:\\Users\\danie\\OneDrive - University of Calgary\\PDF\\Proyects\\Datasets\\easy-on-the-eyes\\sub-P004\\ses-S001\\eeg\\sub-P004_ses-S001_task-T1_run-001_eeg.xdf\"\n",
    "file = r\"C:\\Users\\danie\\OneDrive - University of Calgary\\PDF\\Proyects\\Datasets\\easy-on-the-eyes\\sub-P005\\ses-S001\\eeg\\sub-P005_ses-S001_task-T1_run-001_eeg.xdf\"\n",
    "\n",
    "# Import and epoch data\n",
    "[eeg_time, eeg, srate] = data_tools.read_xdf(file, picks=[\"O1\",\"Oz\",\"O2\"])\n",
    "# [eeg_time, eeg, srate] = data_tools.read_xdf(file)\n",
    "[marker_time, markers] = data_tools.read_xdf_unity_markers(file)\n",
    "nchans = eeg.shape[0]\n",
    "\n",
    "# Filter 60 Hz noise\n",
    "eeg = processing.line_filter(\n",
    "    eeg = eeg,\n",
    "    srate = srate,\n",
    "    f_notch = 60,\n",
    "    f_order = 4\n",
    "    )\n",
    "\n",
    "# Epoch data\n",
    "[eeg_epochs, epoch_labels] = data_tools.epochs_from_unity_markers(\n",
    "    eeg_time = eeg_time,\n",
    "    eeg_data = eeg,\n",
    "    marker_time = marker_time,\n",
    "    marker_data = markers\n",
    "    )\n",
    "\n",
    "# - Get stimuli and frequencies labels\n",
    "fixed_labels = data_tools.fix_labels(epoch_labels)          # Fix labels that might be incorrect in pilot trials\n",
    "dict_of_stimuli = data_tools.get_tvep_stimuli(fixed_labels) # Dictionary of unique stimulus\n",
    "\n",
    "# Dictionary of stimulus frequencies\n",
    "dict_of_freqs = {\n",
    "    0: \"9.090909\",\n",
    "    1: \"14.28571\",\n",
    "    2: \"33.33333\"\n",
    "    }\n",
    "\n",
    "# - Create array of eeg epochs organized as [stimuli, freq, chans, samples]\n",
    "eeg_epochs_organized = data_tools.epochs_stim_freq(\n",
    "    eeg_epochs = eeg_epochs,\n",
    "    labels = fixed_labels,\n",
    "    stimuli = dict_of_stimuli,\n",
    "    freqs = dict_of_freqs\n",
    "    )"
   ]
  },
  {
   "cell_type": "markdown",
   "metadata": {},
   "source": [
    "## Classification\n",
    "\n",
    "Use different types of classifiers to test their performance\n",
    "\n",
    "### CCA"
   ]
  },
  {
   "cell_type": "code",
   "execution_count": 18,
   "metadata": {},
   "outputs": [
    {
     "data": {
      "text/plain": [
       "int"
      ]
     },
     "execution_count": 18,
     "metadata": {},
     "output_type": "execute_result"
    }
   ],
   "source": [
    "type(eeg_epochs_organized.shape[-1])"
   ]
  },
  {
   "cell_type": "code",
   "execution_count": 19,
   "metadata": {},
   "outputs": [],
   "source": [
    "subbands = np.array([[i*2, i*2+2] for i in range(1, 52)])"
   ]
  },
  {
   "cell_type": "code",
   "execution_count": 30,
   "metadata": {},
   "outputs": [],
   "source": [
    "# Create classifier\n",
    "cca = CCA()\n",
    "\n",
    "# Set classifier settings\n",
    "# subbands = np.array((\n",
    "#     (7,11),\n",
    "#     (12,16),\n",
    "#     (31,35),\n",
    "#     (16,20),\n",
    "#     (26,30),\n",
    "#     (64,68)\n",
    "#     ))\n",
    "\n",
    "cca.setup_feature_extractor(\n",
    "        harmonics_count = 2,\n",
    "        targets_frequencies = np.array([float(x) for x in list(dict_of_freqs.values())]),\n",
    "        sampling_frequency = srate,\n",
    "        samples_count = eeg_epochs_organized.shape[-1],\n",
    "        filter_order = 12,\n",
    "        subbands = subbands\n",
    "        )\n",
    "\n",
    "# Run classifier\n",
    "nsamples = eeg_epochs_organized.shape[-1]\n",
    "classifier_data = eeg_epochs_organized[2,:,:,:,:].reshape(9,nchans,nsamples)\n",
    "# cca_data = signal.detrend(cca_data, type=\"constant\")\n",
    "cca_features = (cca.extract_features(classifier_data))\n"
   ]
  },
  {
   "cell_type": "code",
   "execution_count": 31,
   "metadata": {},
   "outputs": [
    {
     "data": {
      "text/plain": [
       "(9, 51, 3)"
      ]
     },
     "execution_count": 31,
     "metadata": {},
     "output_type": "execute_result"
    }
   ],
   "source": [
    "np.squeeze(cca_features).shape"
   ]
  },
  {
   "cell_type": "code",
   "execution_count": 32,
   "metadata": {},
   "outputs": [
    {
     "data": {
      "text/plain": [
       "array([[0.25771984, 0.0408557 , 0.28037181],\n",
       "       [0.25771984, 0.0408557 , 0.28037181],\n",
       "       [0.25771984, 0.0408557 , 0.28037181],\n",
       "       [0.25771984, 0.0408557 , 0.28037181],\n",
       "       [0.25771984, 0.0408557 , 0.28037181],\n",
       "       [0.25771984, 0.0408557 , 0.28037181],\n",
       "       [0.25771984, 0.0408557 , 0.28037181],\n",
       "       [0.25771984, 0.0408557 , 0.28037181],\n",
       "       [0.25771984, 0.0408557 , 0.28037181]], dtype=float32)"
      ]
     },
     "execution_count": 32,
     "metadata": {},
     "output_type": "execute_result"
    }
   ],
   "source": [
    "# np.squeeze(cca_features)\n",
    "np.max(np.squeeze(cca_features), axis=1)\n",
    "# np.argmax(np.max(np.squeeze(cca_features), axis=1), axis=1)"
   ]
  },
  {
   "cell_type": "code",
   "execution_count": 33,
   "metadata": {},
   "outputs": [
    {
     "data": {
      "image/png": "[encoded data removed]",
      "text/plain": [
       "<Figure size 640x480 with 9 Axes>"
      ]
     },
     "metadata": {},
     "output_type": "display_data"
    }
   ],
   "source": [
    "fig, ax = plt.subplots(9,1)\n",
    "\n",
    "\n",
    "for e in range(9):\n",
    "    epoch = classifier_data[e,:,:]\n",
    "    [f, pxx] = signal.welch(epoch, fs = srate, nperseg = srate*7)\n",
    "    mask = (f > 5) & (f < 40)\n",
    "    ax[e].plot(f[mask], pxx[:,mask].T)\n",
    "plt.show()"
   ]
  },
  {
   "cell_type": "code",
   "execution_count": 34,
   "metadata": {},
   "outputs": [
    {
     "data": {
      "text/plain": [
       "[' Worms',\n",
       " ' Static',\n",
       " ' MaxContrast',\n",
       " ' WoodGrain',\n",
       " ' MinContrast',\n",
       " ' Voronoi',\n",
       " ' Checkerboard']"
      ]
     },
     "execution_count": 34,
     "metadata": {},
     "output_type": "execute_result"
    }
   ],
   "source": [
    "list(dict_of_stimuli.values())"
   ]
  },
  {
   "cell_type": "code",
   "execution_count": 35,
   "metadata": {},
   "outputs": [
    {
     "data": {
      "text/plain": [
       "array([[[0.00138292, 0.00078709, 0.00033119],\n",
       "        [0.00138292, 0.00078709, 0.00033119],\n",
       "        [0.00480524, 0.0014718 , 0.0002943 ],\n",
       "        ...,\n",
       "        [0.00026278, 0.00027306, 0.00040941],\n",
       "        [0.00026278, 0.00027306, 0.00040941],\n",
       "        [0.00013754, 0.00014327, 0.00022678]],\n",
       "\n",
       "       [[0.00138292, 0.00078709, 0.00033119],\n",
       "        [0.00138292, 0.00078709, 0.00033119],\n",
       "        [0.00480524, 0.0014718 , 0.0002943 ],\n",
       "        ...,\n",
       "        [0.00026278, 0.00027306, 0.00040941],\n",
       "        [0.00026278, 0.00027306, 0.00040941],\n",
       "        [0.00013754, 0.00014327, 0.00022678]],\n",
       "\n",
       "       [[0.00138292, 0.00078709, 0.00033119],\n",
       "        [0.00138292, 0.00078709, 0.00033119],\n",
       "        [0.00480524, 0.0014718 , 0.0002943 ],\n",
       "        ...,\n",
       "        [0.00026278, 0.00027306, 0.00040941],\n",
       "        [0.00026278, 0.00027306, 0.00040941],\n",
       "        [0.00013754, 0.00014327, 0.00022678]],\n",
       "\n",
       "       ...,\n",
       "\n",
       "       [[0.00138292, 0.00078709, 0.00033119],\n",
       "        [0.00138292, 0.00078709, 0.00033119],\n",
       "        [0.00480524, 0.0014718 , 0.0002943 ],\n",
       "        ...,\n",
       "        [0.00026278, 0.00027306, 0.00040941],\n",
       "        [0.00026278, 0.00027306, 0.00040941],\n",
       "        [0.00013754, 0.00014327, 0.00022678]],\n",
       "\n",
       "       [[0.00138292, 0.00078709, 0.00033119],\n",
       "        [0.00480524, 0.0014718 , 0.0002943 ],\n",
       "        [0.00480524, 0.0014718 , 0.0002943 ],\n",
       "        ...,\n",
       "        [0.00026278, 0.00027306, 0.00040941],\n",
       "        [0.00013754, 0.00014327, 0.00022678],\n",
       "        [0.00013754, 0.00014327, 0.00022678]],\n",
       "\n",
       "       [[0.00138292, 0.00078709, 0.00033119],\n",
       "        [0.00480524, 0.0014718 , 0.0002943 ],\n",
       "        [0.00480524, 0.0014718 , 0.0002943 ],\n",
       "        ...,\n",
       "        [0.00026278, 0.00027306, 0.00040941],\n",
       "        [0.00013754, 0.00014327, 0.00022678],\n",
       "        [0.00013754, 0.00014327, 0.00022678]]], dtype=float32)"
      ]
     },
     "execution_count": 35,
     "metadata": {},
     "output_type": "execute_result"
    }
   ],
   "source": [
    "np.squeeze(cca_features)"
   ]
  },
  {
   "cell_type": "markdown",
   "metadata": {},
   "source": [
    "### MSI"
   ]
  },
  {
   "cell_type": "code",
   "execution_count": 36,
   "metadata": {},
   "outputs": [],
   "source": [
    "# Create classifier\n",
    "msi = MSI()\n",
    "\n",
    "# Set classifier settings\n",
    "msi.setup_feature_extractor(\n",
    "        harmonics_count = 2,\n",
    "        targets_frequencies = np.array([float(x) for x in list(dict_of_freqs.values())]),\n",
    "        sampling_frequency = srate,\n",
    "        samples_count = eeg_epochs_organized.shape[-1],\n",
    "        )\n",
    "\n",
    "# Run classifier\n",
    "# msi_data = eeg_epochs_organized[6,:,:,:,:].reshape(9,3,4114)\n",
    "# msi_data = signal.detrend(msi_data)\n",
    "msi_features = (msi.extract_features(classifier_data))"
   ]
  },
  {
   "cell_type": "code",
   "execution_count": 37,
   "metadata": {},
   "outputs": [
    {
     "data": {
      "text/plain": [
       "array([0, 0, 0, 1, 1, 1, 2, 0, 1], dtype=int64)"
      ]
     },
     "execution_count": 37,
     "metadata": {},
     "output_type": "execute_result"
    }
   ],
   "source": [
    "# np.squeeze(msi_features)\n",
    "np.argmax(np.squeeze(msi_features), axis=1)"
   ]
  },
  {
   "cell_type": "markdown",
   "metadata": {},
   "source": [
    "### MEC"
   ]
  },
  {
   "cell_type": "code",
   "execution_count": 38,
   "metadata": {},
   "outputs": [],
   "source": [
    "# Create classifier\n",
    "mec = MEC()\n",
    "\n",
    "# Set classifier settings\n",
    "mec.setup_feature_extractor(\n",
    "        harmonics_count = 2,\n",
    "        targets_frequencies = np.array([float(x) for x in list(dict_of_freqs.values())]),\n",
    "        sampling_frequency = srate,\n",
    "        samples_count = eeg_epochs_organized.shape[-1],\n",
    "        )\n",
    "\n",
    "# Run classifier\n",
    "mec_features = (mec.extract_features(classifier_data))"
   ]
  },
  {
   "cell_type": "code",
   "execution_count": 39,
   "metadata": {},
   "outputs": [
    {
     "data": {
      "text/plain": [
       "array([0, 0, 0, 0, 1, 1, 1, 2, 2], dtype=int64)"
      ]
     },
     "execution_count": 39,
     "metadata": {},
     "output_type": "execute_result"
    }
   ],
   "source": [
    "# np.shape(mec_features)\n",
    "np.squeeze(mec_features)\n",
    "np.argmax(np.squeeze(mec_features), axis=1)"
   ]
  }
 ],
 "metadata": {
  "kernelspec": {
   "display_name": "ssvep-validation",
   "language": "python",
   "name": "python3"
  },
  "language_info": {
   "codemirror_mode": {
    "name": "ipython",
    "version": 3
   },
   "file_extension": ".py",
   "mimetype": "text/x-python",
   "name": "python",
   "nbconvert_exporter": "python",
   "pygments_lexer": "ipython3",
   "version": "3.12.1"
  }
 },
 "nbformat": 4,
 "nbformat_minor": 2
}
