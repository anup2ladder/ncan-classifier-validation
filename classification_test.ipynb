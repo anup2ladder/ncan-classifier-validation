{
 "cells": [
  {
   "cell_type": "markdown",
   "metadata": {},
   "source": [
    "# Classification Test\n",
    "\n",
    "This notebook runs a single file to test the NCAN classifiers\n",
    "\n",
    "## Import libraries"
   ]
  },
  {
   "cell_type": "code",
   "execution_count": 1,
   "metadata": {},
   "outputs": [
    {
     "name": "stderr",
     "output_type": "stream",
     "text": [
      "<frozen importlib._bootstrap>:241: FutureWarning: mne.io.pick.pick_types is deprecated will be removed in 1.6, use documented public API instead. If no appropriate public API exists, please open an issue on GitHub.\n",
      "<frozen importlib._bootstrap>:241: FutureWarning: mne.io.pick.pick_channels_regexp is deprecated will be removed in 1.6, use documented public API instead. If no appropriate public API exists, please open an issue on GitHub.\n",
      "<frozen importlib._bootstrap>:241: FutureWarning: mne.io.pick.channel_type is deprecated will be removed in 1.6, use documented public API instead. If no appropriate public API exists, please open an issue on GitHub.\n",
      "c:\\Users\\danie\\miniconda3\\envs\\ssvep-validation\\Lib\\site-packages\\moabb\\pipelines\\__init__.py:26: ModuleNotFoundError: Tensorflow is not installed. You won't be able to use these MOABB pipelines if you attempt to do so.\n",
      "  warn(\n"
     ]
    },
    {
     "name": "stdout",
     "output_type": "stream",
     "text": [
      "To use the get_shape_from_baseconcar, InputShapeSetterEEG, BraindecodeDatasetLoaderyou need to install `braindecode`.`pip install braindecode` or Please refer to `https://braindecode.org`.\n"
     ]
    }
   ],
   "source": [
    "# Default libraries\n",
    "import numpy as np\n",
    "import mne\n",
    "import os\n",
    "import matplotlib.pyplot as plt\n",
    "import scipy.signal as signal\n",
    "\n",
    "# Import custom libraries\n",
    "from functions import data_tools\n",
    "from functions import processing\n",
    "from functions import classification\n",
    "from functions.FeatureExtractorSSVEP import FeatureExtractorCCA as CCA\n",
    "from functions.FeatureExtractorSSVEP import FeatureExtractorMSI as MSI\n",
    "from functions.FeatureExtractorSSVEP import FeatureExtractorMEC as MEC\n",
    "\n",
    "# Magic command to reload libraries\n",
    "%reload_ext autoreload\n",
    "# %autoreload 3"
   ]
  },
  {
   "cell_type": "markdown",
   "metadata": {},
   "source": [
    "## Import and epoch data"
   ]
  },
  {
   "cell_type": "code",
   "execution_count": 16,
   "metadata": {},
   "outputs": [
    {
     "name": "stdout",
     "output_type": "stream",
     "text": [
      "Type of stimulus\n",
      "OrderedDict([(0, ' MaxContrast'), (1, ' WoodGrain'), (2, ' Worms'), (3, ' Voronoi'), (4, ' MinContrast'), (5, ' Checkerboard'), (6, ' Static')])\n"
     ]
    }
   ],
   "source": [
    "# Select file to import\n",
    "# file = r\"C:\\Users\\danie\\OneDrive - University of Calgary\\PDF\\Proyects\\Datasets\\easy-on-the-eyes\\sub-P004\\ses-S001\\eeg\\sub-P004_ses-S001_task-T1_run-001_eeg.xdf\"\n",
    "file = r\"C:\\Users\\danie\\OneDrive - University of Calgary\\PDF\\Proyects\\Datasets\\easy-on-the-eyes\\sub-P005\\ses-S001\\eeg\\sub-P005_ses-S001_task-T1_run-001_eeg.xdf\"\n",
    "\n",
    "files = [\n",
    "    r\"C:\\Users\\danie\\OneDrive - University of Calgary\\PDF\\Proyects\\Datasets\\easy-on-the-eyes\\sub-P004\\ses-S001\\eeg\\sub-P004_ses-S001_task-T1_run-001_eeg.xdf\",\n",
    "]\n",
    "\n",
    "# Import and epoch data\n",
    "eeg_picks = [\"O1\",\"Oz\",\"O2\"]\n",
    "# eeg_picks = \"all\"\n",
    "[eeg_time, eeg, srate] = data_tools.read_xdf(file, picks=eeg_picks)\n",
    "# [eeg_time, eeg, srate] = data_tools.read_xdf(file)\n",
    "[marker_time, markers] = data_tools.read_xdf_unity_markers(file)\n",
    "nchans = eeg.shape[0]\n",
    "\n",
    "# Filter 60 Hz noise\n",
    "eeg = processing.line_filter(\n",
    "    eeg = eeg,\n",
    "    srate = srate,\n",
    "    f_notch = 60,\n",
    "    f_order = 4\n",
    "    )\n",
    "\n",
    "\n",
    "# Epoch data\n",
    "[eeg_epochs, epoch_labels] = data_tools.epochs_from_unity_markers(\n",
    "    eeg_time = eeg_time,\n",
    "    eeg_data = eeg,\n",
    "    marker_time = marker_time,\n",
    "    marker_data = markers\n",
    "    )\n",
    "\n",
    "# - Get stimuli and frequencies labels\n",
    "fixed_labels = data_tools.fix_labels(epoch_labels)          # Fix labels that might be incorrect in pilot trials\n",
    "dict_of_stimuli = data_tools.get_tvep_stimuli(fixed_labels) # Dictionary of unique stimulus\n",
    "\n",
    "# Dictionary of stimulus frequencies\n",
    "dict_of_freqs = {\n",
    "    0: \"9.090909\",\n",
    "    1: \"14.28571\",\n",
    "    2: \"33.33333\"\n",
    "    }\n",
    "\n",
    "# - Create array of eeg epochs organized as [stimuli, freq, chans, samples]\n",
    "eeg_epochs_organized = data_tools.epochs_stim_freq(\n",
    "    eeg_epochs = eeg_epochs,\n",
    "    labels = fixed_labels,\n",
    "    stimuli = dict_of_stimuli,\n",
    "    freqs = dict_of_freqs,\n",
    "    mode = \"zeropad\"\n",
    "    )\n",
    "\n",
    "print(f\"Type of stimulus\\n{dict_of_stimuli}\")"
   ]
  },
  {
   "cell_type": "markdown",
   "metadata": {},
   "source": [
    "## Preprocess data\n",
    "\n",
    "Apply detrend, and temporal and spatial filters."
   ]
  },
  {
   "cell_type": "code",
   "execution_count": 15,
   "metadata": {},
   "outputs": [],
   "source": [
    "# Settings\n",
    "stimuli = 1   # Integer to select the type of SSVEP based on the list above\n",
    "event_labels = np.array([0,0,0,1,1,1,2,2,2])\n",
    "\n",
    "# Pick [stimuli] and reshape data to be [freqs*trials, chans, samples]\n",
    "nsamples = eeg_epochs_organized.shape[-1]\n",
    "classifier_data = eeg_epochs_organized[stimuli,:,:,:,:].reshape(len(event_labels),nchans,nsamples)\n",
    "\n",
    "# Detrend data\n",
    "detrend_data = signal.detrend(classifier_data, type=\"constant\")\n",
    "\n",
    "# Apply CSP\n",
    "# csp_data = processing.apply_csp(\n",
    "#     eeg_data = detrend_data,\n",
    "#     labels = event_labels,\n",
    "#     )\n"
   ]
  },
  {
   "cell_type": "markdown",
   "metadata": {},
   "source": [
    "## Classification\n",
    "\n",
    "Use different types of classifiers to test their performance\n",
    "\n",
    "### CCA"
   ]
  },
  {
   "cell_type": "code",
   "execution_count": 4,
   "metadata": {},
   "outputs": [],
   "source": [
    "# Create classifier\n",
    "cca = CCA()\n",
    "\n",
    "# Set classifier settings\n",
    "# subbands = np.array([[i*3, i*3+2] for i in range(1, 20)])\n",
    "subbands = np.array((\n",
    "    (7,11),\n",
    "    (12,16),\n",
    "    (31,35),\n",
    "    (16,20),\n",
    "    (26,30),\n",
    "    (64,68)\n",
    "    ))\n",
    "\n",
    "cca.setup_feature_extractor(\n",
    "        harmonics_count = 2,\n",
    "        targets_frequencies = np.array([float(x) for x in list(dict_of_freqs.values())]),\n",
    "        sampling_frequency = srate,\n",
    "        samples_count = eeg_epochs_organized.shape[-1],\n",
    "        filter_order = 12,\n",
    "        subbands = subbands\n",
    "        )\n",
    "\n",
    "# Run classifier\n",
    "cca_features = (cca.extract_features(detrend_data))\n",
    "cca_features = np.squeeze(cca_features)"
   ]
  },
  {
   "cell_type": "code",
   "execution_count": 7,
   "metadata": {},
   "outputs": [
    {
     "data": {
      "text/plain": [
       "array([0, 0, 0, 1, 1, 1, 2, 1, 2], dtype=int64)"
      ]
     },
     "execution_count": 7,
     "metadata": {},
     "output_type": "execute_result"
    }
   ],
   "source": [
    "# np.squeeze(cca_features)\n",
    "# np.max(np.squeeze(cca_features), axis=1)\n",
    "# np.squeeze(cca_features)\n",
    "# np.argmax(np.squeeze(cca_features), axis=1)\n",
    "np.argmax(np.max(np.squeeze(cca_features), axis=1), axis=1)"
   ]
  },
  {
   "cell_type": "markdown",
   "metadata": {},
   "source": [
    "### MSI"
   ]
  },
  {
   "cell_type": "code",
   "execution_count": 9,
   "metadata": {},
   "outputs": [],
   "source": [
    "# Create classifier\n",
    "msi = MSI()\n",
    "\n",
    "# Set classifier settings\n",
    "msi.setup_feature_extractor(\n",
    "        harmonics_count = 2,\n",
    "        targets_frequencies = np.array([float(x) for x in list(dict_of_freqs.values())]),\n",
    "        sampling_frequency = srate,\n",
    "        samples_count = eeg_epochs_organized.shape[-1],\n",
    "        )\n",
    "\n",
    "# Run classifier\n",
    "# msi_data = eeg_epochs_organized[6,:,:,:,:].reshape(9,3,4114)\n",
    "# msi_data = signal.detrend(msi_data)\n",
    "msi_features = (msi.extract_features(csp_data))"
   ]
  },
  {
   "cell_type": "code",
   "execution_count": 10,
   "metadata": {},
   "outputs": [
    {
     "data": {
      "text/plain": [
       "array([0, 0, 0, 1, 1, 1, 0, 1, 0], dtype=int64)"
      ]
     },
     "execution_count": 10,
     "metadata": {},
     "output_type": "execute_result"
    }
   ],
   "source": [
    "# np.squeeze(msi_features)\n",
    "np.argmax(np.squeeze(msi_features), axis=1)"
   ]
  },
  {
   "cell_type": "markdown",
   "metadata": {},
   "source": [
    "### MEC"
   ]
  },
  {
   "cell_type": "code",
   "execution_count": 11,
   "metadata": {},
   "outputs": [],
   "source": [
    "# Create classifier\n",
    "mec = MEC()\n",
    "\n",
    "# Set classifier settings\n",
    "mec.setup_feature_extractor(\n",
    "        harmonics_count = 2,\n",
    "        targets_frequencies = np.array([float(x) for x in list(dict_of_freqs.values())]),\n",
    "        sampling_frequency = srate,\n",
    "        samples_count = eeg_epochs_organized.shape[-1],\n",
    "        )\n",
    "\n",
    "# Run classifier\n",
    "mec_features = (mec.extract_features(classifier_data))\n"
   ]
  },
  {
   "cell_type": "code",
   "execution_count": 12,
   "metadata": {},
   "outputs": [
    {
     "data": {
      "text/plain": [
       "array([0, 0, 0, 1, 1, 1, 2, 1, 0], dtype=int64)"
      ]
     },
     "execution_count": 12,
     "metadata": {},
     "output_type": "execute_result"
    }
   ],
   "source": [
    "# np.shape(mec_features)\n",
    "np.squeeze(mec_features)\n",
    "np.argmax(np.squeeze(mec_features), axis=1)"
   ]
  },
  {
   "cell_type": "markdown",
   "metadata": {},
   "source": [
    "### Riemmanian geometry + logistic regression\n",
    "\n",
    "This is made using the [MOABB tutorial](https://moabb.neurotechx.com/docs/auto_examples/plot_cross_subject_ssvep.html#sphx-glr-auto-examples-plot-cross-subject-ssvep-py)."
   ]
  },
  {
   "cell_type": "code",
   "execution_count": 13,
   "metadata": {},
   "outputs": [],
   "source": [
    "rg_data = eeg_epochs_organized[stimuli,:,:,:,:].transpose((1,2,3,0))"
   ]
  },
  {
   "cell_type": "code",
   "execution_count": 14,
   "metadata": {},
   "outputs": [
    {
     "name": "stdout",
     "output_type": "stream",
     "text": [
      "[0 0 0 1 1 1 2 2 2]\n"
     ]
    }
   ],
   "source": [
    "rg_predictions = classification.fb_rg_logreg(\n",
    "    eeg_data = classifier_data,\n",
    "    stim_freqs = [float(value) for value in dict_of_freqs.values()],\n",
    "    eeg_channels = eeg_picks, \n",
    "    srate = srate,\n",
    "    labels = event_labels\n",
    "    )\n",
    "\n",
    "print(rg_predictions)"
   ]
  },
  {
   "cell_type": "markdown",
   "metadata": {},
   "source": [
    "## Classifier and stimulus comparison\n",
    "\n",
    "Run the classifiers for all the different stimulus and compare their accuracy performance"
   ]
  },
  {
   "cell_type": "code",
   "execution_count": null,
   "metadata": {},
   "outputs": [],
   "source": [
    "import pandas as pd\n",
    "from sklearn.model_selection import train_test_split\n",
    "from sklearn.metrics import accuracy_score\n",
    "from functions.classification import CCA, MSI, MEC, fb_rg_logreg\n",
    "\n",
    "# Define the stimulus types\n",
    "stimulus_types = ['MaxContrast', 'WoodGrain', 'Worms', 'Voronoi', 'MinContrast', 'Checkerboard', 'Static']\n",
    "\n",
    "# Create an empty dataframe to store the accuracies\n",
    "accuracy_df = pd.DataFrame(columns=['Stimulus', 'CCA', 'MSI', 'MEC', 'fb_rg_logreg'])\n",
    "\n",
    "# Iterate over each stimulus type\n",
    "for file in files:\n",
    "    # Import and epoch data\n",
    "    \n",
    "\n",
    "    # Iterate over each stimulus type\n",
    "    for stimulus in stimulus_types:\n",
    "        \n",
    "\n",
    "        # Initialize the classifiers\n",
    "        cca_classifier = CCA()\n",
    "        msi_classifier = MSI()\n",
    "        mec_classifier = MEC()\n",
    "        fb_rg_logreg_classifier = fb_rg_logreg()\n",
    "        \n",
    "        # Fit the classifiers on the training data\n",
    "        cca_classifier.fit(X_train, y_train)\n",
    "        msi_classifier.fit(X_train, y_train)\n",
    "        mec_classifier.fit(X_train, y_train)\n",
    "        fb_rg_logreg_classifier.fit(X_train, y_train)\n",
    "        \n",
    "        # Make predictions on the testing data\n",
    "        cca_predictions = cca_classifier.predict(X_test)\n",
    "        msi_predictions = msi_classifier.predict(X_test)\n",
    "        mec_predictions = mec_classifier.predict(X_test)\n",
    "        fb_rg_logreg_predictions = fb_rg_logreg_classifier.predict(X_test)\n",
    "        \n",
    "        # Calculate the accuracies\n",
    "        cca_accuracy = accuracy_score(y_test, cca_predictions)\n",
    "        msi_accuracy = accuracy_score(y_test, msi_predictions)\n",
    "        mec_accuracy = accuracy_score(y_test, mec_predictions)\n",
    "        fb_rg_logreg_accuracy = accuracy_score(y_test, fb_rg_logreg_predictions)\n",
    "        \n",
    "        # Append the accuracies to the dataframe\n",
    "        accuracy_df = accuracy_df.append({'Stimulus': stimulus, 'CCA': cca_accuracy, 'MSI': msi_accuracy, 'MEC': mec_accuracy, 'fb_rg_logreg': fb_rg_logreg_accuracy}, ignore_index=True)\n",
    "\n",
    "    # Print the accuracy dataframe\n",
    "    print(accuracy_df)\n"
   ]
  }
 ],
 "metadata": {
  "kernelspec": {
   "display_name": "ssvep-validation",
   "language": "python",
   "name": "python3"
  },
  "language_info": {
   "codemirror_mode": {
    "name": "ipython",
    "version": 3
   },
   "file_extension": ".py",
   "mimetype": "text/x-python",
   "name": "python",
   "nbconvert_exporter": "python",
   "pygments_lexer": "ipython3",
   "version": "3.11.8"
  }
 },
 "nbformat": 4,
 "nbformat_minor": 2
}
