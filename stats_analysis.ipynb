{
 "cells": [
  {
   "cell_type": "markdown",
   "metadata": {},
   "source": [
    "# Stats analysis\n",
    "\n",
    "This notebook performins a one-way analysis of variance (ANOVA) or a Kruskal-Wallis test on the classification accuracies of the `WANG2016` dataset. \n",
    "- If the classification data if found to have independence of observations, be normally distributed, and have homogeneity of variances, the one-way ANOVA was performed. \n",
    "- Otherwise, the Kruskal-Wallis test will take place. \n",
    "\n",
    "The interest of doing the one-way ANOVA is to test the null hypothesis ($\\text{H}_0$) that one of the groups is different from the other. Our expectation is that we will reject the null hypothesis. Thus, implying that the proposed classifiers of the SSVEP toolbox perform as well as the Riemmanian geometry classifier suggested by the MOABB tool. However, if the null hypothesis is not rejected, then a post-hoc test with a Bonferroni correction for multiple comparisons were used to compare the classifiers.\n",
    "\n",
    "## Import libraries"
   ]
  },
  {
   "cell_type": "code",
   "execution_count": 23,
   "metadata": {},
   "outputs": [],
   "source": [
    "import numpy as np\n",
    "import pandas as pd\n",
    "from scipy.stats import shapiro, f_oneway, kruskal\n",
    "from statsmodels.stats.multitest import multipletests\n",
    "from pingouin import sphericity\n",
    "import matplotlib.pyplot as plt\n",
    "import scikit_posthocs as sp"
   ]
  },
  {
   "cell_type": "markdown",
   "metadata": {},
   "source": [
    "## Import data"
   ]
  },
  {
   "cell_type": "code",
   "execution_count": 7,
   "metadata": {},
   "outputs": [],
   "source": [
    "results_file = \"results_ncan_moabb.csv\"\n",
    "\n",
    "data = pd.read_csv(results_file)\n",
    "data.set_index('Subject', inplace=True)"
   ]
  },
  {
   "cell_type": "markdown",
   "metadata": {},
   "source": [
    "# Normality and variance test\n",
    "\n",
    "Do a Shapiro-Wilk test for normality and a Mauchly's test for sphericity to check the variance of the data"
   ]
  },
  {
   "cell_type": "code",
   "execution_count": 11,
   "metadata": {},
   "outputs": [],
   "source": [
    "def check_normality(data):\n",
    "    stat, pvalue = shapiro(data)\n",
    "    return pvalue >= 0.05\n",
    "\n",
    "# Mauchly's test for sphericity\n",
    "def check_sphericity(data):\n",
    "    result = sphericity(\n",
    "        data,\n",
    "        method='mauchly',\n",
    "        alpha=0.05\n",
    "        )\n",
    "    return result\n",
    "\n",
    "# Check normality and sphericity for each column\n",
    "normality_passed = all(check_normality(data[col]) for col in data.columns)\n",
    "sphericity_passed = check_sphericity(data).spher"
   ]
  },
  {
   "cell_type": "markdown",
   "metadata": {},
   "source": [
    "# Statistical tests\n",
    "\n",
    "If normality and sphericity test have passed, perform a one-way ANOVA. Otherwise, perform a Kruskal-Wallis test"
   ]
  },
  {
   "cell_type": "code",
   "execution_count": 15,
   "metadata": {},
   "outputs": [
    {
     "name": "stdout",
     "output_type": "stream",
     "text": [
      "Data is not normal or not spheric\n",
      "- Kruskal-Wallis p-value: 2.2164269995166644e-07\n"
     ]
    }
   ],
   "source": [
    "if (normality_passed and sphericity_passed):\n",
    "    print(\"Data is normal and spheric\")\n",
    "    stat, pvalue = f_oneway(*[data[col] for col in data.columns])\n",
    "    print(f\"- One-way ANOVA p-value: {pvalue}\")\n",
    "else:\n",
    "    print(\"Data is not normal or not spheric\")\n",
    "    stat, pvalue = kruskal(*[data[col] for col in data.columns])\n",
    "    print(f\"- Kruskal-Wallis p-value: {pvalue}\")"
   ]
  },
  {
   "cell_type": "markdown",
   "metadata": {},
   "source": [
    "## Multiple test comparison\n",
    "\n",
    "Do a Bonferroni correction to do a multiple test comparison"
   ]
  },
  {
   "cell_type": "code",
   "execution_count": 20,
   "metadata": {},
   "outputs": [
    {
     "name": "stdout",
     "output_type": "stream",
     "text": [
      "Friedman's test p-value: 5.58706842353853e-12\n"
     ]
    }
   ],
   "source": [
    "from scipy.stats import f_oneway, friedmanchisquare\n",
    "stats = []\n",
    "pvalues = []\n",
    "if normality_passed and sphericity_passed:\n",
    "    # Perform repeated measures ANOVA\n",
    "    stats.append, pvalue.append = f_oneway(*[data[col] for col in data.columns])\n",
    "    print(f\"Repeated Measures ANOVA p-value: {pvalue}\")\n",
    "else:\n",
    "    # Perform Friedman's test\n",
    "    stats.append(friedmanchisquare(*[data[col] for col in data.columns])[0])\n",
    "    pvalues.append(friedmanchisquare(*[data[col] for col in data.columns])[1])\n",
    "    print(f\"Friedman's test p-value: {pvalue}\")\n"
   ]
  },
  {
   "cell_type": "code",
   "execution_count": 21,
   "metadata": {},
   "outputs": [
    {
     "ename": "ValueError",
     "evalue": "At least 3 sets of samples must be given for Friedman test, got 2.",
     "output_type": "error",
     "traceback": [
      "\u001b[1;31m---------------------------------------------------------------------------\u001b[0m",
      "\u001b[1;31mValueError\u001b[0m                                Traceback (most recent call last)",
      "\u001b[1;32m~\\AppData\\Local\\Temp\\ipykernel_4076\\1433901155.py\u001b[0m in \u001b[0;36m?\u001b[1;34m()\u001b[0m\n\u001b[0;32m      6\u001b[0m \u001b[1;31m# Perform Friedman's test for all possible combinations of comparing the columns\u001b[0m\u001b[1;33m\u001b[0m\u001b[1;33m\u001b[0m\u001b[0m\n\u001b[0;32m      7\u001b[0m \u001b[0mpvalues\u001b[0m \u001b[1;33m=\u001b[0m \u001b[1;33m[\u001b[0m\u001b[1;33m]\u001b[0m\u001b[1;33m\u001b[0m\u001b[1;33m\u001b[0m\u001b[0m\n\u001b[0;32m      8\u001b[0m \u001b[1;32mfor\u001b[0m \u001b[0mi\u001b[0m \u001b[1;32min\u001b[0m \u001b[0mrange\u001b[0m\u001b[1;33m(\u001b[0m\u001b[0mlen\u001b[0m\u001b[1;33m(\u001b[0m\u001b[0mcolumns\u001b[0m\u001b[1;33m)\u001b[0m\u001b[1;33m)\u001b[0m\u001b[1;33m:\u001b[0m\u001b[1;33m\u001b[0m\u001b[1;33m\u001b[0m\u001b[0m\n\u001b[0;32m      9\u001b[0m     \u001b[1;32mfor\u001b[0m \u001b[0mj\u001b[0m \u001b[1;32min\u001b[0m \u001b[0mrange\u001b[0m\u001b[1;33m(\u001b[0m\u001b[0mi\u001b[0m\u001b[1;33m+\u001b[0m\u001b[1;36m1\u001b[0m\u001b[1;33m,\u001b[0m \u001b[0mlen\u001b[0m\u001b[1;33m(\u001b[0m\u001b[0mcolumns\u001b[0m\u001b[1;33m)\u001b[0m\u001b[1;33m)\u001b[0m\u001b[1;33m:\u001b[0m\u001b[1;33m\u001b[0m\u001b[1;33m\u001b[0m\u001b[0m\n\u001b[1;32m---> 10\u001b[1;33m         \u001b[0mstat\u001b[0m\u001b[1;33m,\u001b[0m \u001b[0mpvalue\u001b[0m \u001b[1;33m=\u001b[0m \u001b[0mfriedmanchisquare\u001b[0m\u001b[1;33m(\u001b[0m\u001b[0mdata\u001b[0m\u001b[1;33m[\u001b[0m\u001b[0mcolumns\u001b[0m\u001b[1;33m[\u001b[0m\u001b[0mi\u001b[0m\u001b[1;33m]\u001b[0m\u001b[1;33m]\u001b[0m\u001b[1;33m,\u001b[0m \u001b[0mdata\u001b[0m\u001b[1;33m[\u001b[0m\u001b[0mcolumns\u001b[0m\u001b[1;33m[\u001b[0m\u001b[0mj\u001b[0m\u001b[1;33m]\u001b[0m\u001b[1;33m]\u001b[0m\u001b[1;33m)\u001b[0m\u001b[1;33m\u001b[0m\u001b[1;33m\u001b[0m\u001b[0m\n\u001b[0m\u001b[0;32m     11\u001b[0m         \u001b[0mpvalues\u001b[0m\u001b[1;33m.\u001b[0m\u001b[0mappend\u001b[0m\u001b[1;33m(\u001b[0m\u001b[0mpvalue\u001b[0m\u001b[1;33m)\u001b[0m\u001b[1;33m\u001b[0m\u001b[1;33m\u001b[0m\u001b[0m\n\u001b[0;32m     12\u001b[0m \u001b[1;33m\u001b[0m\u001b[0m\n\u001b[0;32m     13\u001b[0m \u001b[1;31m# Apply Bonferroni correction to the p-values\u001b[0m\u001b[1;33m\u001b[0m\u001b[1;33m\u001b[0m\u001b[0m\n",
      "\u001b[1;32mc:\\Users\\Daniel\\miniconda3\\envs\\ssvep-validation\\Lib\\site-packages\\scipy\\stats\\_axis_nan_policy.py\u001b[0m in \u001b[0;36m?\u001b[1;34m(***failed resolving arguments***)\u001b[0m\n\u001b[0;32m    527\u001b[0m                 \u001b[1;31m# behavior of those would break backward compatibility.\u001b[0m\u001b[1;33m\u001b[0m\u001b[1;33m\u001b[0m\u001b[0m\n\u001b[0;32m    528\u001b[0m \u001b[1;33m\u001b[0m\u001b[0m\n\u001b[0;32m    529\u001b[0m                 \u001b[1;32mif\u001b[0m \u001b[0msentinel\u001b[0m\u001b[1;33m:\u001b[0m\u001b[1;33m\u001b[0m\u001b[1;33m\u001b[0m\u001b[0m\n\u001b[0;32m    530\u001b[0m                     \u001b[0msamples\u001b[0m \u001b[1;33m=\u001b[0m \u001b[0m_remove_sentinel\u001b[0m\u001b[1;33m(\u001b[0m\u001b[0msamples\u001b[0m\u001b[1;33m,\u001b[0m \u001b[0mpaired\u001b[0m\u001b[1;33m,\u001b[0m \u001b[0msentinel\u001b[0m\u001b[1;33m)\u001b[0m\u001b[1;33m\u001b[0m\u001b[1;33m\u001b[0m\u001b[0m\n\u001b[1;32m--> 531\u001b[1;33m                 \u001b[0mres\u001b[0m \u001b[1;33m=\u001b[0m \u001b[0mhypotest_fun_out\u001b[0m\u001b[1;33m(\u001b[0m\u001b[1;33m*\u001b[0m\u001b[0msamples\u001b[0m\u001b[1;33m,\u001b[0m \u001b[1;33m**\u001b[0m\u001b[0mkwds\u001b[0m\u001b[1;33m)\u001b[0m\u001b[1;33m\u001b[0m\u001b[1;33m\u001b[0m\u001b[0m\n\u001b[0m\u001b[0;32m    532\u001b[0m                 \u001b[0mres\u001b[0m \u001b[1;33m=\u001b[0m \u001b[0mresult_to_tuple\u001b[0m\u001b[1;33m(\u001b[0m\u001b[0mres\u001b[0m\u001b[1;33m)\u001b[0m\u001b[1;33m\u001b[0m\u001b[1;33m\u001b[0m\u001b[0m\n\u001b[0;32m    533\u001b[0m                 \u001b[0mres\u001b[0m \u001b[1;33m=\u001b[0m \u001b[0m_add_reduced_axes\u001b[0m\u001b[1;33m(\u001b[0m\u001b[0mres\u001b[0m\u001b[1;33m,\u001b[0m \u001b[0mreduced_axes\u001b[0m\u001b[1;33m,\u001b[0m \u001b[0mkeepdims\u001b[0m\u001b[1;33m)\u001b[0m\u001b[1;33m\u001b[0m\u001b[1;33m\u001b[0m\u001b[0m\n\u001b[0;32m    534\u001b[0m                 \u001b[1;32mreturn\u001b[0m \u001b[0mtuple_to_result\u001b[0m\u001b[1;33m(\u001b[0m\u001b[1;33m*\u001b[0m\u001b[0mres\u001b[0m\u001b[1;33m)\u001b[0m\u001b[1;33m\u001b[0m\u001b[1;33m\u001b[0m\u001b[0m\n",
      "\u001b[1;32mc:\\Users\\Daniel\\miniconda3\\envs\\ssvep-validation\\Lib\\site-packages\\scipy\\stats\\_stats_py.py\u001b[0m in \u001b[0;36m?\u001b[1;34m(*samples)\u001b[0m\n\u001b[0;32m   9350\u001b[0m \u001b[1;33m\u001b[0m\u001b[0m\n\u001b[0;32m   9351\u001b[0m     \"\"\"\n\u001b[0;32m   9352\u001b[0m     \u001b[0mk\u001b[0m \u001b[1;33m=\u001b[0m \u001b[0mlen\u001b[0m\u001b[1;33m(\u001b[0m\u001b[0msamples\u001b[0m\u001b[1;33m)\u001b[0m\u001b[1;33m\u001b[0m\u001b[1;33m\u001b[0m\u001b[0m\n\u001b[0;32m   9353\u001b[0m     \u001b[1;32mif\u001b[0m \u001b[0mk\u001b[0m \u001b[1;33m<\u001b[0m \u001b[1;36m3\u001b[0m\u001b[1;33m:\u001b[0m\u001b[1;33m\u001b[0m\u001b[1;33m\u001b[0m\u001b[0m\n\u001b[1;32m-> 9354\u001b[1;33m         raise ValueError('At least 3 sets of samples must be given '\n\u001b[0m\u001b[0;32m   9355\u001b[0m                          f'for Friedman test, got {k}.')\n\u001b[0;32m   9356\u001b[0m \u001b[1;33m\u001b[0m\u001b[0m\n\u001b[0;32m   9357\u001b[0m     \u001b[0mn\u001b[0m \u001b[1;33m=\u001b[0m \u001b[0mlen\u001b[0m\u001b[1;33m(\u001b[0m\u001b[0msamples\u001b[0m\u001b[1;33m[\u001b[0m\u001b[1;36m0\u001b[0m\u001b[1;33m]\u001b[0m\u001b[1;33m)\u001b[0m\u001b[1;33m\u001b[0m\u001b[1;33m\u001b[0m\u001b[0m\n",
      "\u001b[1;31mValueError\u001b[0m: At least 3 sets of samples must be given for Friedman test, got 2."
     ]
    }
   ],
   "source": [
    "alpha = 0.05\n",
    "\n",
    "# Get the column names from the data\n",
    "columns = data.columns\n",
    "\n",
    "# Perform Friedman's test for all possible combinations of comparing the columns\n",
    "pvalues = []\n",
    "for i in range(len(columns)):\n",
    "    for j in range(i+1, len(columns)):\n",
    "        stat, pvalue = friedmanchisquare(data[columns[i]], data[columns[j]])\n",
    "        pvalues.append(pvalue)\n",
    "\n",
    "# Apply Bonferroni correction to the p-values\n",
    "alpha_corrected = alpha / len(pvalues)\n",
    "rejected, p_adjusted, _, _ = multipletests(pvalues, alpha=alpha_corrected, method='bonferroni')\n",
    "\n",
    "# Count the number of significant comparisons\n",
    "num_significant = sum(rejected)\n",
    "\n",
    "# Print the results\n",
    "print(f\"Number of significant comparisons: {num_significant}\")\n",
    "print(\"Adjusted p-values:\")\n",
    "for i in range(len(p_adjusted)):\n",
    "    print(f\"{columns[i]} vs {columns[i+1]}: {p_adjusted[i]}\")"
   ]
  },
  {
   "cell_type": "markdown",
   "metadata": {},
   "source": [
    "https://scikit-posthocs.readthedocs.io/en/latest/generated/scikit_posthocs.posthoc_nemenyi_friedman.html\n"
   ]
  },
  {
   "cell_type": "code",
   "execution_count": 24,
   "metadata": {},
   "outputs": [
    {
     "name": "stdout",
     "output_type": "stream",
     "text": [
      "              fbCCA       MSI    MEC  RG_logreg\n",
      "fbCCA      1.000000  0.180649  0.001      0.001\n",
      "MSI        0.180649  1.000000  0.001      0.001\n",
      "MEC        0.001000  0.001000  1.000      0.900\n",
      "RG_logreg  0.001000  0.001000  0.900      1.000\n"
     ]
    }
   ],
   "source": [
    "result = sp.posthoc_nemenyi_friedman(data)\n",
    "print(result)"
   ]
  }
 ],
 "metadata": {
  "kernelspec": {
   "display_name": "ssvep-validation",
   "language": "python",
   "name": "python3"
  },
  "language_info": {
   "codemirror_mode": {
    "name": "ipython",
    "version": 3
   },
   "file_extension": ".py",
   "mimetype": "text/x-python",
   "name": "python",
   "nbconvert_exporter": "python",
   "pygments_lexer": "ipython3",
   "version": "3.11.8"
  }
 },
 "nbformat": 4,
 "nbformat_minor": 2
}
