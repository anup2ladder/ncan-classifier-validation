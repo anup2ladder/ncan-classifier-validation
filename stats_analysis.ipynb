{
 "cells": [
  {
   "cell_type": "markdown",
   "metadata": {},
   "source": [
    "# Stats analysis\n",
    "\n",
    "This notebook performins a one-way analysis of variance (ANOVA) or a Kruskal-Wallis test on the classification accuracies of the `WANG2016` dataset. \n",
    "- If the classification data if found to have independence of observations, be normally distributed, and have homogeneity of variances, the one-way ANOVA was performed. \n",
    "- Otherwise, the Kruskal-Wallis test will take place. \n",
    "\n",
    "The interest of doing the one-way ANOVA is to test the null hypothesis ($\\text{H}_0$) that one of the groups is different from the other. Our expectation is that we will reject the null hypothesis. Thus, implying that the proposed classifiers of the SSVEP toolbox perform as well as the Riemmanian geometry classifier suggested by the MOABB tool. However, if the null hypothesis is not rejected, then a post-hoc test with a Bonferroni correction for multiple comparisons were used to compare the classifiers.\n",
    "\n",
    "## Import libraries"
   ]
  },
  {
   "cell_type": "code",
   "execution_count": 1,
   "metadata": {},
   "outputs": [],
   "source": [
    "import numpy as np\n",
    "import pandas as pd\n",
    "from scipy.stats import shapiro, f_oneway, kruskal\n",
    "from statsmodels.stats.multitest import multipletests\n",
    "from pingouin import sphericity\n",
    "import matplotlib.pyplot as plt\n",
    "import scikit_posthocs as sp"
   ]
  },
  {
   "cell_type": "markdown",
   "metadata": {},
   "source": [
    "## Import data"
   ]
  },
  {
   "cell_type": "code",
   "execution_count": 2,
   "metadata": {},
   "outputs": [],
   "source": [
    "results_file = \"results_ncan_moabb.csv\"\n",
    "\n",
    "data = pd.read_csv(results_file)\n",
    "data.set_index('Subject', inplace=True)"
   ]
  },
  {
   "cell_type": "markdown",
   "metadata": {},
   "source": [
    "# Normality and variance test\n",
    "\n",
    "Do a Shapiro-Wilk test for normality and a Mauchly's test for sphericity to check the variance of the data"
   ]
  },
  {
   "cell_type": "code",
   "execution_count": 3,
   "metadata": {},
   "outputs": [],
   "source": [
    "def check_normality(data):\n",
    "    stat, pvalue = shapiro(data)\n",
    "    return pvalue >= 0.05\n",
    "\n",
    "# Mauchly's test for sphericity\n",
    "def check_sphericity(data):\n",
    "    result = sphericity(\n",
    "        data,\n",
    "        method='mauchly',\n",
    "        alpha=0.05\n",
    "        )\n",
    "    return result\n",
    "\n",
    "# Check normality and sphericity for each column\n",
    "normality_passed = all(check_normality(data[col]) for col in data.columns)\n",
    "sphericity_passed = check_sphericity(data).spher"
   ]
  },
  {
   "cell_type": "markdown",
   "metadata": {},
   "source": [
    "# Statistical tests\n",
    "\n",
    "If normality and sphericity test have passed, perform a one-way ANOVA. Otherwise, perform a Kruskal-Wallis test"
   ]
  },
  {
   "cell_type": "code",
   "execution_count": 4,
   "metadata": {},
   "outputs": [
    {
     "name": "stdout",
     "output_type": "stream",
     "text": [
      "Data is not normal or not spheric\n",
      "- Kruskal-Wallis p-value: 2.2164269995166644e-07\n"
     ]
    }
   ],
   "source": [
    "if (normality_passed and sphericity_passed):\n",
    "    print(\"Data is normal and spheric\")\n",
    "    stat, pvalue = f_oneway(*[data[col] for col in data.columns])\n",
    "    print(f\"- One-way ANOVA p-value: {pvalue}\")\n",
    "else:\n",
    "    print(\"Data is not normal or not spheric\")\n",
    "    stat, pvalue = kruskal(*[data[col] for col in data.columns])\n",
    "    print(f\"- Kruskal-Wallis p-value: {pvalue}\")"
   ]
  },
  {
   "cell_type": "markdown",
   "metadata": {},
   "source": [
    "## Multiple test comparison\n",
    "\n",
    "Do a Bonferroni correction to do a multiple test comparison"
   ]
  },
  {
   "cell_type": "code",
   "execution_count": 5,
   "metadata": {},
   "outputs": [
    {
     "name": "stdout",
     "output_type": "stream",
     "text": [
      "Friedman's test p-value: 2.2164269995166644e-07\n"
     ]
    }
   ],
   "source": [
    "from scipy.stats import f_oneway, friedmanchisquare\n",
    "stats = []\n",
    "pvalues = []\n",
    "if normality_passed and sphericity_passed:\n",
    "    # Perform repeated measures ANOVA\n",
    "    stats.append, pvalue.append = f_oneway(*[data[col] for col in data.columns])\n",
    "    print(f\"Repeated Measures ANOVA p-value: {pvalue}\")\n",
    "else:\n",
    "    # Perform Friedman's test\n",
    "    stats.append(friedmanchisquare(*[data[col] for col in data.columns])[0])\n",
    "    pvalues.append(friedmanchisquare(*[data[col] for col in data.columns])[1])\n",
    "    print(f\"Friedman's test p-value: {pvalue}\")\n"
   ]
  },
  {
   "cell_type": "markdown",
   "metadata": {},
   "source": [
    "## Posthoc tests\n",
    "\n",
    "Got suggestion for this processing [here](https://scikit-posthocs.readthedocs.io/en/latest/generated/scikit_posthocs.posthoc_nemenyi_friedman.html). Look at the first paper reference.\n"
   ]
  },
  {
   "cell_type": "code",
   "execution_count": 38,
   "metadata": {},
   "outputs": [
    {
     "name": "stdout",
     "output_type": "stream",
     "text": [
      "Nemenyi Friedman test:\n",
      "              fbCCA       MSI    MEC  RG_logreg\n",
      "fbCCA      1.000000  0.180649  0.001      0.001\n",
      "MSI        0.180649  1.000000  0.001      0.001\n",
      "MEC        0.001000  0.001000  1.000      0.900\n",
      "RG_logreg  0.001000  0.001000  0.900      1.000\n"
     ]
    }
   ],
   "source": [
    "from pingouin import anova, rm_anova\n",
    "\n",
    "if normality_passed and sphericity_passed:\n",
    "    # Perform repeated measures ANOVA\n",
    "    long_format_df = data.reset_index().melt(\n",
    "        id_vars='Subject',\n",
    "        var_name='Classifier',\n",
    "        value_name='Accuracy'\n",
    "        )\n",
    "    multiple_comparison_results = sp.posthoc_tukey_hsd(\n",
    "        long_format_df[\"Accuracy\"],\n",
    "        long_format_df[\"Classifier\"],\n",
    "        alpha=0.05\n",
    "        )\n",
    "    print(\"Tukey Honestly Significant Difference:\")\n",
    "else:\n",
    "    multiple_comparison_results = sp.posthoc_nemenyi_friedman(data)\n",
    "    print(f\"Nemenyi Friedman test:\")\n",
    "\n",
    "print(multiple_comparison_results)"
   ]
  }
 ],
 "metadata": {
  "kernelspec": {
   "display_name": "ssvep-validation",
   "language": "python",
   "name": "python3"
  },
  "language_info": {
   "codemirror_mode": {
    "name": "ipython",
    "version": 3
   },
   "file_extension": ".py",
   "mimetype": "text/x-python",
   "name": "python",
   "nbconvert_exporter": "python",
   "pygments_lexer": "ipython3",
   "version": "3.11.8"
  }
 },
 "nbformat": 4,
 "nbformat_minor": 2
}
