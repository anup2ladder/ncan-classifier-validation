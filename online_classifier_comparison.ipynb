{
 "cells": [
  {
   "cell_type": "markdown",
   "metadata": {},
   "source": [
    "# Online classifier comparison\n",
    "\n",
    "This notebook takes a single epoch from either the MOABB or the pediatric dataset and computes the classification running a preset number of voters. The execution time is measured.\n",
    "The end part of the notebook can do the plot of the accuracy vs number voters.\n",
    "\n",
    "## Import libraries\n"
   ]
  },
  {
   "cell_type": "code",
   "execution_count": null,
   "metadata": {},
   "outputs": [
    {
     "name": "stderr",
     "output_type": "stream",
     "text": [
      "<frozen importlib._bootstrap>:241: FutureWarning: mne.io.pick.pick_types is deprecated will be removed in 1.6, use documented public API instead. If no appropriate public API exists, please open an issue on GitHub.\n",
      "<frozen importlib._bootstrap>:241: FutureWarning: mne.io.pick.pick_channels_regexp is deprecated will be removed in 1.6, use documented public API instead. If no appropriate public API exists, please open an issue on GitHub.\n",
      "<frozen importlib._bootstrap>:241: FutureWarning: mne.io.pick.channel_type is deprecated will be removed in 1.6, use documented public API instead. If no appropriate public API exists, please open an issue on GitHub.\n",
      "c:\\Users\\Daniel\\miniconda3\\envs\\ssvep-validation\\Lib\\site-packages\\moabb\\pipelines\\__init__.py:26: ModuleNotFoundError: Tensorflow is not installed. You won't be able to use these MOABB pipelines if you attempt to do so.\n",
      "  warn(\n"
     ]
    },
    {
     "name": "stdout",
     "output_type": "stream",
     "text": [
      "To use the get_shape_from_baseconcar, InputShapeSetterEEG, BraindecodeDatasetLoaderyou need to install `braindecode`.`pip install braindecode` or Please refer to `https://braindecode.org`.\n"
     ]
    }
   ],
   "source": [
    "# Default libraries\n",
    "import re\n",
    "import mne\n",
    "import random\n",
    "import numpy as np\n",
    "import pandas as pd\n",
    "import seaborn as sns\n",
    "import matplotlib.pyplot as plt\n",
    "\n",
    "from sklearn.metrics import accuracy_score\n",
    "from sklearn.pipeline import make_pipeline\n",
    "\n",
    "from pyriemann.estimation import Covariances\n",
    "from pyriemann.tangentspace import TangentSpace\n",
    "\n",
    "from moabb.datasets import Wang2016, SSVEPExo\n",
    "from moabb.paradigms import FilterBankSSVEP, SSVEP\n",
    "from moabb.pipelines import ExtendedSSVEPSignal\n",
    "from sklearn.linear_model import LogisticRegression\n",
    "from moabb.evaluations import CrossSubjectEvaluation\n",
    "\n",
    "\n",
    "# Import custom libraries\n",
    "from functions import data_tools\n",
    "from functions import processing\n",
    "from functions import classification\n",
    "from functions.FeatureExtractorSSVEP import FeatureExtractorCCA as CCA\n",
    "from functions.FeatureExtractorSSVEP import FeatureExtractorMSI as MSI\n",
    "from functions.FeatureExtractorSSVEP import FeatureExtractorMEC as MEC\n",
    "\n",
    "# Magic command to reload libraries\n",
    "%reload_ext autoreload"
   ]
  },
  {
   "cell_type": "markdown",
   "metadata": {},
   "source": [
    "## General settings"
   ]
  },
  {
   "cell_type": "code",
   "execution_count": 22,
   "metadata": {},
   "outputs": [],
   "source": [
    "n_voters = np.arange(2000, dtype=int)\n",
    "\n",
    "test_dataset = \"Wang2016\"    # \"Wang2016\" or \"BCI4Kids\"\n",
    "dataset_nsubjects = {\n",
    "    \"Wang2016\": 34,\n",
    "    \"BCI4Kids\": 6\n",
    "}\n",
    "# Generate random indexes\n",
    "# random_seed = 42\n",
    "# random.seed(random_seed)\n",
    "# subject = random.randint(0, dataset_nsubjects[dataset] - 1, random_seed)\n",
    "\n",
    "\n",
    "# Classifier settings \n",
    "harmonic_count = 2\n",
    "classifiers = [\"fbCCA\", \"MSI\", \"MEC\", \"RG_logreg\"]"
   ]
  },
  {
   "cell_type": "markdown",
   "metadata": {},
   "source": [
    "# Data\n",
    "\n",
    "Get a randomized single epoch from a single trial in the selected dataset"
   ]
  },
  {
   "cell_type": "code",
   "execution_count": 24,
   "metadata": {},
   "outputs": [
    {
     "name": "stderr",
     "output_type": "stream",
     "text": [
      "Trial data de-meaned and concatenated with a buffer to create continuous data\n"
     ]
    },
    {
     "ename": "TypeError",
     "evalue": "object of type 'Wang2016' has no len()",
     "output_type": "error",
     "traceback": [
      "\u001b[1;31m---------------------------------------------------------------------------\u001b[0m",
      "\u001b[1;31mTypeError\u001b[0m                                 Traceback (most recent call last)",
      "Cell \u001b[1;32mIn[24], line 16\u001b[0m\n\u001b[0;32m     12\u001b[0m cca_subbands \u001b[38;5;241m=\u001b[39m np\u001b[38;5;241m.\u001b[39mcolumn_stack((first_column, second_column))\n\u001b[0;32m     14\u001b[0m \u001b[38;5;66;03m# Get epoched data\u001b[39;00m\n\u001b[0;32m     15\u001b[0m \u001b[38;5;66;03m# - Preallocate data\u001b[39;00m\n\u001b[1;32m---> 16\u001b[0m epochs_list \u001b[38;5;241m=\u001b[39m [\u001b[38;5;28;01mNone\u001b[39;00m] \u001b[38;5;241m*\u001b[39m \u001b[38;5;28;43mlen\u001b[39;49m\u001b[43m(\u001b[49m\u001b[43mdata\u001b[49m\u001b[43m)\u001b[49m\n\u001b[0;32m     17\u001b[0m events_list \u001b[38;5;241m=\u001b[39m [\u001b[38;5;28;01mNone\u001b[39;00m] \u001b[38;5;241m*\u001b[39m \u001b[38;5;28mlen\u001b[39m(data)\n\u001b[0;32m     19\u001b[0m \u001b[38;5;66;03m# - Obtain epochs and events\u001b[39;00m\n",
      "\u001b[1;31mTypeError\u001b[0m: object of type 'Wang2016' has no len()"
     ]
    }
   ],
   "source": [
    "if (test_dataset == \"Wang2016\"):\n",
    "    # Get trial data\n",
    "    dataset = Wang2016()\n",
    "    subject_data = dataset.get_data(subjects=[1])\n",
    "    time_trim = [0.5, 5.5] # Times to trim the data [sec]\n",
    "    stimulus_freqs = [float(freq) for freq in dataset.event_id.keys()]  # Stimulus frequencies [Hz]\n",
    "    srate = subject_data[1][\"0\"][\"0\"].info['sfreq'] # Sampling rate [Hz]\n",
    "\n",
    "    # Frequency bands\n",
    "    first_column = np.arange(1, 11) * 8\n",
    "    second_column = np.full(10, 88)\n",
    "    cca_subbands = np.column_stack((first_column, second_column))\n",
    "\n",
    "    # Get epoched data\n",
    "    # - Preallocate data\n",
    "    epochs_list = [None] * len(data)\n",
    "    events_list = [None] * len(data)\n",
    "\n",
    "    # - Obtain epochs and events\n",
    "    for s, subject in data.items():\n",
    "        [events_list[s-1], epochs_list[s-1]] = data_tools.moabb_events_to_np(\n",
    "            mne_raw = subject[\"0\"][\"0\"],\n",
    "            tmin = tmin,\n",
    "            tmax = tmax,\n",
    "            events_dict = dataset.event_id,\n",
    "            chans = eeg_channels\n",
    "            )\n",
    "        \n",
    "    # - Convert lists to np.ndarrays\n",
    "    # eeg_channels = data[1][\"0\"][\"0\"].ch_names\n",
    "    epochs_np = np.float32(np.array(epochs_list))\n",
    "    events_np = np.array(events_list[0][:,2]) - 1   # The `-1` is to make the labels start at 0"
   ]
  },
  {
   "cell_type": "code",
   "execution_count": null,
   "metadata": {},
   "outputs": [],
   "source": [
    "dataset.get_data()"
   ]
  }
 ],
 "metadata": {
  "kernelspec": {
   "display_name": "ssvep-validation",
   "language": "python",
   "name": "python3"
  },
  "language_info": {
   "codemirror_mode": {
    "name": "ipython",
    "version": 3
   },
   "file_extension": ".py",
   "mimetype": "text/x-python",
   "name": "python",
   "nbconvert_exporter": "python",
   "pygments_lexer": "ipython3",
   "version": "3.11.8"
  }
 },
 "nbformat": 4,
 "nbformat_minor": 2
}
